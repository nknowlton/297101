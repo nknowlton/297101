{
 "cells": [
  {
   "cell_type": "markdown",
   "metadata": {},
   "source": [
    "# Intro   \n",
    "Today we're going to be \"citizen scientists\" and produce some research using open data. Along the way, we'll play with some fun Python code (my preferred environment for data wrangling and analysis). By the end, we'll have completed a data science project from start to finish."
   ]
  },
  {
   "cell_type": "markdown",
   "metadata": {},
   "source": [
    "# Problem    \n",
    "Imagine that we're data scientists/ engineers employed by a consulting company. Our consulting firm has been hired by a nonprofit organization whose mission is to advocate for better health outcomes for low income populations in the United States.    \n",
    "\n",
    "We've been asked to examine whether low income groups are at greater risk for being diagnosed and dying from cancer. If successful, our analysis will help the nonprofit with lobbying and fundraising.   \n",
    "\n",
    "**(!)Note: for this analysis, we've been asked to limit our examination to lung-cancer only.**\n"
   ]
  },
  {
   "cell_type": "markdown",
   "metadata": {},
   "source": [
    "# Strategy    \n",
    "We will be using open data. Fortunately, the US federal government has published open data fitting our present needs -- for example, cancer.gov for cancer incidence and mortality data, and the Census American Community Survey for a multitude of additional variables we may choose to include in our model.    \n",
    "\n",
    "**Our broad goals**:   \n",
    "1. Demonstrate whether or not cancer incidence and mortality are correlated with socioeconomic status.   \n",
    "2. Provide both quantitative and visual evidence that the nonprofit can take and use to further their mission.    \n",
    "\n",
    "**Objectives**:    \n",
    "1. Gather, Clean and prepare data\n",
    "2. Exploratory analysis\n",
    "3. Statistical model\n",
    "4. Visualizations    \n",
    "\n",
    "**Workspace**: **(!)** Create a new dataset on data.world. Call it \"cancer-analysis-hackathon-challenge\" and set it to open.\n",
    "Open your new data.world dataset in a separate browser window at this time. "
   ]
  },
  {
   "cell_type": "markdown",
   "metadata": {},
   "source": [
    "### Let's get to work!"
   ]
  },
  {
   "cell_type": "code",
   "execution_count": 8,
   "metadata": {},
   "outputs": [
    {
     "name": "stdout",
     "output_type": "stream",
     "text": [
      "The watermark extension is already loaded. To reload it, use:\n",
      "  %reload_ext watermark\n"
     ]
    }
   ],
   "source": [
    "# data wrangling tools\n",
    "import pandas as pd\n",
    "import numpy as np\n",
    "\n",
    "# visualization\n",
    "import matplotlib.pyplot as plt\n",
    "%matplotlib inline\n",
    "import seaborn as sns\n",
    "\n",
    "# statistical analysis\n",
    "import statsmodels.api as sm\n",
    "from statsmodels.stats.outliers_influence import variance_inflation_factor\n",
    "\n",
    "# datadotworld SDK\n",
    "import datadotworld as ddw\n",
    "%load_ext watermark\n",
    "\n",
    "import time"
   ]
  },
  {
   "cell_type": "code",
   "execution_count": null,
   "metadata": {},
   "outputs": [],
   "source": [
    "%watermark -v -p pandas,numpy,matplotlib,datadotworld"
   ]
  },
  {
   "cell_type": "markdown",
   "metadata": {},
   "source": [
    "# 1. Acquire and Prepare Data    \n",
    "### Cancer Incidence & Mortality Data\n",
    "Cancer mortality and incidence data can be found at cancer.gov:    \n",
    "![NIH_Front.png](https://data.world/api/nrippner/dataset/images/file/raw/NIH_Front.png)"
   ]
  },
  {
   "cell_type": "markdown",
   "metadata": {
    "collapsed": true
   },
   "source": [
    "**(!)Note**: For our analysis, we will using cancer statistics aggregated at the county level. In turn, we will be able to merge with data from the Census, also aggregated at the county level. While datasets with Census data have already been prepared and made available by the NIH, we will be merging the Census data ourselves.    \n",
    "\n",
    "We'll be using the State Cancer Profiles tool for collecting the data we need. This will allow us to apply specific filters prior to downloading.   \n",
    "**Download both the incidence and mortality datasets, specifying the filters shown in the image below:**\n",
    "![StateProfiles.png](https://data.world/api/nrippner/dataset/images/file/raw/StateProfiles.png)"
   ]
  },
  {
   "cell_type": "markdown",
   "metadata": {
    "collapsed": true
   },
   "source": [
    "**(!)Note:** Opening the csv file in excel, we see that the first few rows are some annotations extraneous to the data itself. There are also extra rows at the bottom of the csv. We'll need to delete these rows before being able to load the data into data.world and pandas. Remove the extra rows and upload the two csv files to your data.world dataset. These annotations we're removing from the files contain information about codes used in the cancer data and have been added to our [dataset on data.world](https://data.world/nrippner/cancer-analysis-hackathon-challenge/file/cancer_data_notes.xlsx) in case we need to reference them.    \n",
    "![Screen Shot 2017-05-10 at 11.43.34 AM.png](https://data.world/api/nrippner/dataset/images/file/raw/Screen%20Shot%202017-05-10%20at%2011.43.34%20AM.png)   "
   ]
  },
  {
   "cell_type": "code",
   "execution_count": 9,
   "metadata": {
    "collapsed": true
   },
   "outputs": [
    {
     "data": {
      "application/vnd.microsoft.datawrangler.viewer.v0+json": {
       "columns": [
        {
         "name": "index",
         "rawType": "int64",
         "type": "integer"
        },
        {
         "name": "county",
         "rawType": "object",
         "type": "string"
        },
        {
         "name": "fips",
         "rawType": "int64",
         "type": "integer"
        },
        {
         "name": "met_objective_of_45_5_1",
         "rawType": "object",
         "type": "string"
        },
        {
         "name": "age_adjusted_death_rate",
         "rawType": "object",
         "type": "string"
        },
        {
         "name": "lower_95_confidence_interval_for_death_rate",
         "rawType": "object",
         "type": "string"
        },
        {
         "name": "upper_95_confidence_interval_for_death_rate",
         "rawType": "object",
         "type": "string"
        },
        {
         "name": "average_deaths_per_year",
         "rawType": "object",
         "type": "string"
        },
        {
         "name": "recent_trend_2",
         "rawType": "object",
         "type": "string"
        },
        {
         "name": "recent_5_year_trend_2_in_death_rates",
         "rawType": "object",
         "type": "string"
        },
        {
         "name": "lower_95_confidence_interval_for_trend",
         "rawType": "object",
         "type": "string"
        },
        {
         "name": "upper_95_confidence_interval_for_trend",
         "rawType": "object",
         "type": "string"
        }
       ],
       "ref": "85586d08-283d-4c3d-9107-805be1da6061",
       "rows": [
        [
         "0",
         "United States",
         "0",
         "No",
         "46",
         "45.9",
         "46.1",
         "157,376",
         "falling",
         "-2.4",
         "-2.6",
         "-2.2"
        ],
        [
         "1",
         "Perry County, Kentucky",
         "21193",
         "No",
         "125.6",
         "108.9",
         "144.2",
         "43",
         "stable",
         "-0.6",
         "-2.7",
         "1.6"
        ],
        [
         "2",
         "Powell County, Kentucky",
         "21197",
         "No",
         "125.3",
         "100.2",
         "155.1",
         "18",
         "stable",
         "1.7",
         "0",
         "3.4"
        ],
        [
         "3",
         "North Slope Borough, Alaska",
         "2185",
         "No",
         "124.9",
         "73",
         "194.7",
         "5",
         "**",
         "**",
         "**",
         "**"
        ],
        [
         "4",
         "Owsley County, Kentucky",
         "21189",
         "No",
         "118.5",
         "83.1",
         "165.5",
         "8",
         "stable",
         "2.2",
         "-0.4",
         "4.8"
        ]
       ],
       "shape": {
        "columns": 11,
        "rows": 5
       }
      },
      "text/html": [
       "<div>\n",
       "<style scoped>\n",
       "    .dataframe tbody tr th:only-of-type {\n",
       "        vertical-align: middle;\n",
       "    }\n",
       "\n",
       "    .dataframe tbody tr th {\n",
       "        vertical-align: top;\n",
       "    }\n",
       "\n",
       "    .dataframe thead th {\n",
       "        text-align: right;\n",
       "    }\n",
       "</style>\n",
       "<table border=\"1\" class=\"dataframe\">\n",
       "  <thead>\n",
       "    <tr style=\"text-align: right;\">\n",
       "      <th></th>\n",
       "      <th>county</th>\n",
       "      <th>fips</th>\n",
       "      <th>met_objective_of_45_5_1</th>\n",
       "      <th>age_adjusted_death_rate</th>\n",
       "      <th>lower_95_confidence_interval_for_death_rate</th>\n",
       "      <th>upper_95_confidence_interval_for_death_rate</th>\n",
       "      <th>average_deaths_per_year</th>\n",
       "      <th>recent_trend_2</th>\n",
       "      <th>recent_5_year_trend_2_in_death_rates</th>\n",
       "      <th>lower_95_confidence_interval_for_trend</th>\n",
       "      <th>upper_95_confidence_interval_for_trend</th>\n",
       "    </tr>\n",
       "  </thead>\n",
       "  <tbody>\n",
       "    <tr>\n",
       "      <th>0</th>\n",
       "      <td>United States</td>\n",
       "      <td>0</td>\n",
       "      <td>No</td>\n",
       "      <td>46</td>\n",
       "      <td>45.9</td>\n",
       "      <td>46.1</td>\n",
       "      <td>157,376</td>\n",
       "      <td>falling</td>\n",
       "      <td>-2.4</td>\n",
       "      <td>-2.6</td>\n",
       "      <td>-2.2</td>\n",
       "    </tr>\n",
       "    <tr>\n",
       "      <th>1</th>\n",
       "      <td>Perry County, Kentucky</td>\n",
       "      <td>21193</td>\n",
       "      <td>No</td>\n",
       "      <td>125.6</td>\n",
       "      <td>108.9</td>\n",
       "      <td>144.2</td>\n",
       "      <td>43</td>\n",
       "      <td>stable</td>\n",
       "      <td>-0.6</td>\n",
       "      <td>-2.7</td>\n",
       "      <td>1.6</td>\n",
       "    </tr>\n",
       "    <tr>\n",
       "      <th>2</th>\n",
       "      <td>Powell County, Kentucky</td>\n",
       "      <td>21197</td>\n",
       "      <td>No</td>\n",
       "      <td>125.3</td>\n",
       "      <td>100.2</td>\n",
       "      <td>155.1</td>\n",
       "      <td>18</td>\n",
       "      <td>stable</td>\n",
       "      <td>1.7</td>\n",
       "      <td>0</td>\n",
       "      <td>3.4</td>\n",
       "    </tr>\n",
       "    <tr>\n",
       "      <th>3</th>\n",
       "      <td>North Slope Borough, Alaska</td>\n",
       "      <td>2185</td>\n",
       "      <td>No</td>\n",
       "      <td>124.9</td>\n",
       "      <td>73</td>\n",
       "      <td>194.7</td>\n",
       "      <td>5</td>\n",
       "      <td>**</td>\n",
       "      <td>**</td>\n",
       "      <td>**</td>\n",
       "      <td>**</td>\n",
       "    </tr>\n",
       "    <tr>\n",
       "      <th>4</th>\n",
       "      <td>Owsley County, Kentucky</td>\n",
       "      <td>21189</td>\n",
       "      <td>No</td>\n",
       "      <td>118.5</td>\n",
       "      <td>83.1</td>\n",
       "      <td>165.5</td>\n",
       "      <td>8</td>\n",
       "      <td>stable</td>\n",
       "      <td>2.2</td>\n",
       "      <td>-0.4</td>\n",
       "      <td>4.8</td>\n",
       "    </tr>\n",
       "  </tbody>\n",
       "</table>\n",
       "</div>"
      ],
      "text/plain": [
       "                        county   fips met_objective_of_45_5_1  \\\n",
       "0                United States      0                      No   \n",
       "1       Perry County, Kentucky  21193                      No   \n",
       "2      Powell County, Kentucky  21197                      No   \n",
       "3  North Slope Borough, Alaska   2185                      No   \n",
       "4      Owsley County, Kentucky  21189                      No   \n",
       "\n",
       "  age_adjusted_death_rate lower_95_confidence_interval_for_death_rate  \\\n",
       "0                      46                                        45.9   \n",
       "1                   125.6                                       108.9   \n",
       "2                   125.3                                       100.2   \n",
       "3                   124.9                                          73   \n",
       "4                   118.5                                        83.1   \n",
       "\n",
       "  upper_95_confidence_interval_for_death_rate average_deaths_per_year  \\\n",
       "0                                        46.1                 157,376   \n",
       "1                                       144.2                      43   \n",
       "2                                       155.1                      18   \n",
       "3                                       194.7                       5   \n",
       "4                                       165.5                       8   \n",
       "\n",
       "  recent_trend_2 recent_5_year_trend_2_in_death_rates  \\\n",
       "0        falling                                 -2.4   \n",
       "1         stable                                 -0.6   \n",
       "2         stable                                  1.7   \n",
       "3             **                                   **   \n",
       "4         stable                                  2.2   \n",
       "\n",
       "  lower_95_confidence_interval_for_trend  \\\n",
       "0                                   -2.6   \n",
       "1                                   -2.7   \n",
       "2                                      0   \n",
       "3                                     **   \n",
       "4                                   -0.4   \n",
       "\n",
       "  upper_95_confidence_interval_for_trend  \n",
       "0                                   -2.2  \n",
       "1                                    1.6  \n",
       "2                                    3.4  \n",
       "3                                     **  \n",
       "4                                    4.8  "
      ]
     },
     "execution_count": 9,
     "metadata": {},
     "output_type": "execute_result"
    }
   ],
   "source": [
    "# retrieve the cancer data from data.world\n",
    "mortdf = ddw.query('nrippner/cancer-analysis-hackathon-challenge',\n",
    "                  'SELECT * FROM `death .csv/death `').dataframe\n",
    "\n",
    "incddf = ddw.query('nrippner/cancer-analysis-hackathon-challenge',\n",
    "                        'SELECT * FROM `incd.csv/incd`').dataframe\n",
    "mortdf.head()"
   ]
  },
  {
   "cell_type": "code",
   "execution_count": 10,
   "metadata": {},
   "outputs": [
    {
     "name": "stdout",
     "output_type": "stream",
     "text": [
      "Current incddf columns: ['county', 'fips', 'age_adjusted_incidence_rate_e_cases_per_100_000', 'lower_95_confidence_interval', 'upper_95_confidence_interval', 'average_annual_count', 'recent_trend', 'recent_5_year_trend_in_incidence_rates', 'lower_95_confidence_interval_2', 'upper_95_confidence_interval_2']\n",
      "Current mortdf columns: ['county', 'fips', 'met_objective_of_45_5_1', 'age_adjusted_death_rate', 'lower_95_confidence_interval_for_death_rate', 'upper_95_confidence_interval_for_death_rate', 'average_deaths_per_year', 'recent_trend_2', 'recent_5_year_trend_2_in_death_rates', 'lower_95_confidence_interval_for_trend', 'upper_95_confidence_interval_for_trend']\n",
      "Processing raw data...\n",
      "Data processing complete.\n",
      "\n",
      "Final column names:\n",
      "incddf columns: ['county', 'fips', 'Incidence_Rate', 'Avg_Ann_Incidence']\n",
      "mortdf columns: ['county', 'fips', 'Mortality_Rate', 'Avg_Ann_Deaths', 'Recent Trend']\n",
      "incddf shape: (3141, 4)\n",
      "mortdf shape: (3141, 5)\n"
     ]
    }
   ],
   "source": [
    "mortdf = mortdf[mortdf.fips.notnull()]\n",
    "incddf = incddf[incddf.fips.notnull()]\n",
    "\n",
    "# Convert FIPS to string and pad to 5 digits if needed\n",
    "mortdf['fips'] = mortdf.fips.apply(lambda x: str(int(x)))\\\n",
    "                            .astype(str)\\\n",
    "                            .str.pad(5, 'left', '0')\n",
    "\n",
    "incddf['fips'] = incddf.fips.apply(lambda x: str(int(x)))\\\n",
    "                            .astype(str)\\\n",
    "                            .str.pad(5, 'left', '0')\n",
    "\n",
    "# Check current column names to see if data has already been processed\n",
    "print(\"Current incddf columns:\", incddf.columns.tolist())\n",
    "print(\"Current mortdf columns:\", mortdf.columns.tolist())\n",
    "\n",
    "# Check if data needs to be cleaned or if it's already been processed\n",
    "if 'age_adjusted_incidence_rate_e_cases_per_100_000' in incddf.columns:\n",
    "    # Data hasn't been processed yet - clean it\n",
    "    print(\"Processing raw data...\")\n",
    "    \n",
    "    # Keep only the columns we need for incddf\n",
    "    incddf = incddf[['county', 'fips', 'age_adjusted_incidence_rate_e_cases_per_100_000', 'average_annual_count']]\n",
    "    \n",
    "    # Keep only the columns we need for mortdf (including recent trend)\n",
    "    mortdf = mortdf[['county', 'fips', 'age_adjusted_death_rate', 'average_deaths_per_year', 'recent_trend_2']]\n",
    "    \n",
    "    # Rename columns for clarity\n",
    "    incddf.rename(columns={'age_adjusted_incidence_rate_e_cases_per_100_000':'Incidence_Rate',\n",
    "                           'average_annual_count':'Avg_Ann_Incidence'}, inplace=True)\n",
    "    mortdf.rename(columns={'age_adjusted_death_rate':'Mortality_Rate',\n",
    "                           'average_deaths_per_year':'Avg_Ann_Deaths',\n",
    "                           'recent_trend_2':'Recent Trend'}, inplace=True)\n",
    "    \n",
    "    print(\"Data processing complete.\")\n",
    "else:\n",
    "    # Data has already been processed\n",
    "    print(\"Data appears to already be cleaned and processed.\")\n",
    "\n",
    "print(\"\\nFinal column names:\")\n",
    "print(\"incddf columns:\", incddf.columns.tolist())\n",
    "print(\"mortdf columns:\", mortdf.columns.tolist())\n",
    "print(\"incddf shape:\", incddf.shape)\n",
    "print(\"mortdf shape:\", mortdf.shape)"
   ]
  },
  {
   "cell_type": "markdown",
   "metadata": {
    "collapsed": true
   },
   "source": [
    "### Census Data     \n",
    "Now that we've acquired lung cancer incidence and mortality data, our goal is to include additional data that we can use to build a model. We want interesting variables which explain (are correlated with) incidence or mortality. A couple things to note:   \n",
    "1. To join with incidence and mortality, we need data that are indexed by US County.\n",
    "2. We're looking for variables which explain (are correlated with) incidence and mortality.\n",
    "3. We want interesting (meaningful and relevant) variables. For example:\n",
    "  * Poverty\n",
    "  * Median Income\n",
    "  * Educational Attainment\n",
    "  * Employment\n",
    "  * etc."
   ]
  },
  {
   "cell_type": "markdown",
   "metadata": {
    "collapsed": true
   },
   "source": [
    "Navigate to [the UC Census ACS dataset](https://data.world/uscensusbureau/2014-american-community-survey)     \n",
    "**(!)Note:** even though this is best-organized and most accessible representation of the Census data that exists, it's still a huge amount of data to understand and navigate! Use the data dictionary to help browse through the features and their definitions."
   ]
  },
  {
   "cell_type": "markdown",
   "metadata": {
    "collapsed": true
   },
   "source": [
    "#### A. Poverty Data"
   ]
  },
  {
   "cell_type": "markdown",
   "metadata": {
    "collapsed": true
   },
   "source": [
    "B17001_002\n",
    "POVERTY STATUS IN THE PAST 12 MONTHS BY SEX BY AGE for Population For Whom Poverty Status Is Determined% Income in the past 12 months below poverty level    \n",
    "B17001_003\n",
    "POVERTY STATUS IN THE PAST 12 MONTHS BY SEX BY AGE for Population For Whom Poverty Status Is Determined% Income in the past 12 months below poverty level:% Male    \n",
    "B17001_017\n",
    "POVERTY STATUS IN THE PAST 12 MONTHS BY SEX BY AGE for Population For Whom Poverty Status Is Determined% Income in the past 12 months below poverty level:% Female"
   ]
  },
  {
   "cell_type": "code",
   "execution_count": 11,
   "metadata": {
    "collapsed": true
   },
   "outputs": [],
   "source": [
    "# Retrieve a list of table names (by state)\n",
    "pov = ddw.load_dataset('uscensusbureau/acs-2015-5-e-poverty')\n",
    "\n",
    "tables = []\n",
    "for i in pov.tables:\n",
    "    if len(i) == 2:\n",
    "        tables.append(i)\n",
    "\n",
    "# remove Puerto Rico\n",
    "tables.remove('pr')"
   ]
  },
  {
   "cell_type": "code",
   "execution_count": 12,
   "metadata": {},
   "outputs": [
    {
     "name": "stdout",
     "output_type": "stream",
     "text": [
      "51\n"
     ]
    },
    {
     "data": {
      "text/plain": [
       "array(['ak', 'al', 'ar', 'az', 'ca', 'co', 'ct', 'dc', 'de', 'fl', 'ga',\n",
       "       'hi', 'ia', 'id', 'il', 'in', 'ks', 'ky', 'la', 'ma', 'md', 'me',\n",
       "       'mi', 'mn', 'mo', 'ms', 'mt', 'nc', 'nd', 'ne', 'nh', 'nj', 'nm',\n",
       "       'nv', 'ny', 'oh', 'ok', 'or', 'pa', 'ri', 'sc', 'sd', 'tn', 'tx',\n",
       "       'ut', 'va', 'vt', 'wa', 'wi', 'wv', 'wy'], dtype='<U2')"
      ]
     },
     "execution_count": 12,
     "metadata": {},
     "output_type": "execute_result"
    }
   ],
   "source": [
    "print(len(tables))\n",
    "np.array(tables)"
   ]
  },
  {
   "cell_type": "code",
   "execution_count": 13,
   "metadata": {},
   "outputs": [
    {
     "name": "stdout",
     "output_type": "stream",
     "text": [
      "85.5683274269104\n"
     ]
    }
   ],
   "source": [
    "# Retrieve the Census poverty data from data.world\n",
    "start = time.time()\n",
    "\n",
    "# a string - the poverty columns we want from the Census ACS \n",
    "cols = '`State`, `StateFIPS`, `CountyFIPS`, `AreaName`, `B17001_002`, `B17001_003`,'\\\n",
    "       '`B17001_017`'\n",
    "\n",
    "# call the data for each state and concatenate\n",
    "for i, state in enumerate(tables):\n",
    "    if i == 0:\n",
    "        povdf = ddw.query('uscensusbureau/acs-2015-5-e-poverty',\n",
    "                  '''SELECT %s FROM `AK`\n",
    "                     WHERE SummaryLevel=50''' % cols).dataframe \n",
    "    else:\n",
    "        df = ddw.query('uscensusbureau/acs-2015-5-e-poverty',\n",
    "                       '''SELECT %s FROM `%s`\n",
    "                          WHERE SummaryLevel=50''' % (cols, state.upper())).dataframe\n",
    "    \n",
    "        povdf = pd.concat([povdf, df], ignore_index=True)\n",
    "\n",
    "end = time.time()\n",
    "\n",
    "print(end - start)\n",
    "\n",
    "\n",
    "# Add leading zeros to the state and county FIPS codes\n",
    "povdf['StateFIPS'] = povdf.StateFIPS.astype(np.object_)\\\n",
    "                                    .apply(lambda x: str(x))\\\n",
    "                                    .str.pad(2, 'left', '0')\n",
    "povdf['CountyFIPS'] = povdf.CountyFIPS.astype(np.object_)\\\n",
    "                                      .apply(lambda x: str(x))\\\n",
    "                                      .str.pad(3, 'left', '0')\n",
    "\n",
    "povdf.rename(columns={'B17001_002':'All_Poverty', 'B17001_003':'M_Poverty', 'B17001_017':'F_Poverty'},\n",
    "             inplace=True)"
   ]
  },
  {
   "cell_type": "code",
   "execution_count": 14,
   "metadata": {},
   "outputs": [
    {
     "data": {
      "application/vnd.microsoft.datawrangler.viewer.v0+json": {
       "columns": [
        {
         "name": "index",
         "rawType": "int64",
         "type": "integer"
        },
        {
         "name": "State",
         "rawType": "object",
         "type": "string"
        },
        {
         "name": "StateFIPS",
         "rawType": "object",
         "type": "string"
        },
        {
         "name": "CountyFIPS",
         "rawType": "object",
         "type": "string"
        },
        {
         "name": "AreaName",
         "rawType": "object",
         "type": "string"
        },
        {
         "name": "All_Poverty",
         "rawType": "int64",
         "type": "integer"
        },
        {
         "name": "M_Poverty",
         "rawType": "int64",
         "type": "integer"
        },
        {
         "name": "F_Poverty",
         "rawType": "int64",
         "type": "integer"
        }
       ],
       "ref": "7645880d-d90e-430d-9ef7-cbbf4f974d12",
       "rows": [
        [
         "0",
         "AK",
         "02",
         "013",
         "Aleutians East Borough, Alaska",
         "553",
         "334",
         "219"
        ],
        [
         "1",
         "AK",
         "02",
         "016",
         "Aleutians West Census Area, Alaska",
         "499",
         "273",
         "226"
        ],
        [
         "2",
         "AK",
         "02",
         "020",
         "Anchorage Municipality, Alaska",
         "23914",
         "10698",
         "13216"
        ],
        [
         "3",
         "AK",
         "02",
         "050",
         "Bethel Census Area, Alaska",
         "4364",
         "2199",
         "2165"
        ],
        [
         "4",
         "AK",
         "02",
         "060",
         "Bristol Bay Borough, Alaska",
         "69",
         "33",
         "36"
        ]
       ],
       "shape": {
        "columns": 7,
        "rows": 5
       }
      },
      "text/html": [
       "<div>\n",
       "<style scoped>\n",
       "    .dataframe tbody tr th:only-of-type {\n",
       "        vertical-align: middle;\n",
       "    }\n",
       "\n",
       "    .dataframe tbody tr th {\n",
       "        vertical-align: top;\n",
       "    }\n",
       "\n",
       "    .dataframe thead th {\n",
       "        text-align: right;\n",
       "    }\n",
       "</style>\n",
       "<table border=\"1\" class=\"dataframe\">\n",
       "  <thead>\n",
       "    <tr style=\"text-align: right;\">\n",
       "      <th></th>\n",
       "      <th>State</th>\n",
       "      <th>StateFIPS</th>\n",
       "      <th>CountyFIPS</th>\n",
       "      <th>AreaName</th>\n",
       "      <th>All_Poverty</th>\n",
       "      <th>M_Poverty</th>\n",
       "      <th>F_Poverty</th>\n",
       "    </tr>\n",
       "  </thead>\n",
       "  <tbody>\n",
       "    <tr>\n",
       "      <th>0</th>\n",
       "      <td>AK</td>\n",
       "      <td>02</td>\n",
       "      <td>013</td>\n",
       "      <td>Aleutians East Borough, Alaska</td>\n",
       "      <td>553</td>\n",
       "      <td>334</td>\n",
       "      <td>219</td>\n",
       "    </tr>\n",
       "    <tr>\n",
       "      <th>1</th>\n",
       "      <td>AK</td>\n",
       "      <td>02</td>\n",
       "      <td>016</td>\n",
       "      <td>Aleutians West Census Area, Alaska</td>\n",
       "      <td>499</td>\n",
       "      <td>273</td>\n",
       "      <td>226</td>\n",
       "    </tr>\n",
       "    <tr>\n",
       "      <th>2</th>\n",
       "      <td>AK</td>\n",
       "      <td>02</td>\n",
       "      <td>020</td>\n",
       "      <td>Anchorage Municipality, Alaska</td>\n",
       "      <td>23914</td>\n",
       "      <td>10698</td>\n",
       "      <td>13216</td>\n",
       "    </tr>\n",
       "    <tr>\n",
       "      <th>3</th>\n",
       "      <td>AK</td>\n",
       "      <td>02</td>\n",
       "      <td>050</td>\n",
       "      <td>Bethel Census Area, Alaska</td>\n",
       "      <td>4364</td>\n",
       "      <td>2199</td>\n",
       "      <td>2165</td>\n",
       "    </tr>\n",
       "    <tr>\n",
       "      <th>4</th>\n",
       "      <td>AK</td>\n",
       "      <td>02</td>\n",
       "      <td>060</td>\n",
       "      <td>Bristol Bay Borough, Alaska</td>\n",
       "      <td>69</td>\n",
       "      <td>33</td>\n",
       "      <td>36</td>\n",
       "    </tr>\n",
       "  </tbody>\n",
       "</table>\n",
       "</div>"
      ],
      "text/plain": [
       "  State StateFIPS CountyFIPS                            AreaName  All_Poverty  \\\n",
       "0    AK        02        013      Aleutians East Borough, Alaska          553   \n",
       "1    AK        02        016  Aleutians West Census Area, Alaska          499   \n",
       "2    AK        02        020      Anchorage Municipality, Alaska        23914   \n",
       "3    AK        02        050          Bethel Census Area, Alaska         4364   \n",
       "4    AK        02        060         Bristol Bay Borough, Alaska           69   \n",
       "\n",
       "   M_Poverty  F_Poverty  \n",
       "0        334        219  \n",
       "1        273        226  \n",
       "2      10698      13216  \n",
       "3       2199       2165  \n",
       "4         33         36  "
      ]
     },
     "execution_count": 14,
     "metadata": {},
     "output_type": "execute_result"
    }
   ],
   "source": [
    "povdf.head()"
   ]
  },
  {
   "cell_type": "markdown",
   "metadata": {},
   "source": [
    "#### B. Income Data"
   ]
  },
  {
   "cell_type": "markdown",
   "metadata": {},
   "source": [
    "B19013_001\n",
    "MEDIAN HOUSEHOLD INCOME IN THE PAST 12 MONTHS (IN 2015 INFLATION-ADJUSTED DOLLARS) for Households%Median household income in the past 12 months (in 2015 Inflation-adjusted dollars)                \n",
    "B19013A_001\n",
    "MEDIAN HOUSEHOLD INCOME IN THE PAST 12 MONTHS (IN 2015 INFLATION-ADJUSTED DOLLARS) (WHITE ALONE HOUSEHOLDER) for Households With A Householder Who Is White Alone%Median household income in the past 12 months (in 2015 Inflation-adjusted dollars)       \n",
    "       \n",
    "B19013B_001\n",
    "MEDIAN HOUSEHOLD INCOME IN THE PAST 12 MONTHS (IN 2015 INFLATION-ADJUSTED DOLLARS) (BLACK OR AFRICAN AMERICAN ALONE HOUSEHOLDER) for Households With A Householder Who Is Black Or African American Alone%Median household income in the past 12 months (in 2015 Inflation-adjusted dollars)       \n",
    "       \n",
    "B19013C_001\n",
    "MEDIAN HOUSEHOLD INCOME IN THE PAST 12 MONTHS (IN 2015 INFLATION-ADJUSTED DOLLARS) (AMERICAN INDIAN AND ALASKA NATIVE ALONE HOUSEHOLDER) for Households With A Householder Who Is American Indian And Alaska Native Alone%Median household income in the past 12 months (in 2015 Inflation-adjusted dollars)       \n",
    "            \n",
    "B19013D_001\n",
    "MEDIAN HOUSEHOLD INCOME IN THE PAST 12 MONTHS (IN 2015 INFLATION-ADJUSTED DOLLARS) (ASIAN ALONE HOUSEHOLDER) for Households With A Householder Who Is Asian Alone%Median household income in the past 12 months (in 2015 Inflation-adjusted dollars)      \n",
    "         \n",
    "       \n",
    "B19013I_001\n",
    "MEDIAN HOUSEHOLD INCOME IN THE PAST 12 MONTHS (IN 2015 INFLATION-ADJUSTED DOLLARS) (HISPANIC OR LATINO HOUSEHOLDER) for Households With A Householder Who Is Hispanic Or Latino%Median household income in the past 12 months (in 2015 Inflation-adjusted dollars)"
   ]
  },
  {
   "cell_type": "code",
   "execution_count": 15,
   "metadata": {},
   "outputs": [
    {
     "name": "stdout",
     "output_type": "stream",
     "text": [
      "59.98806309700012\n"
     ]
    }
   ],
   "source": [
    "cols = '`StateFIPS`, `CountyFIPS`,'\\\n",
    "       '`B19013_001`, `B19013A_001`, `B19013B_001`, `B19013C_001`, `B19013D_001`,'\\\n",
    "       '`B19013I_001`'\n",
    "\n",
    "start = time.time()\n",
    "\n",
    "for i, state in enumerate(tables):\n",
    "    if i == 0:\n",
    "        incomedf = ddw.query('uscensusbureau/acs-2015-5-e-income',\n",
    "                  '''SELECT %s FROM `AK`\n",
    "                     WHERE SummaryLevel=50''' % cols).dataframe \n",
    "    else:\n",
    "        df = ddw.query('uscensusbureau/acs-2015-5-e-income',\n",
    "                       '''SELECT %s FROM `%s`\n",
    "                          WHERE SummaryLevel=50''' % (cols, state.upper())).dataframe\n",
    "        incomedf = pd.concat([incomedf, df], ignore_index=True)\n",
    "\n",
    "        end = time.time()\n",
    "\n",
    "print(end - start)\n",
    "\n",
    "incomedf['StateFIPS'] = incomedf.StateFIPS.astype(np.object_)\\\n",
    "                                .apply(lambda x: str(x))\\\n",
    "                                .str.pad(2, 'left', '0')\n",
    "incomedf['CountyFIPS'] = incomedf.CountyFIPS.astype(np.object_)\\\n",
    "                                 .apply(lambda x: str(x))\\\n",
    "                                 .str.pad(3, 'left', '0')\n",
    "\n",
    "incomedf.rename(columns={'B19013_001':'Med_Income', 'B19013A_001':'Med_Income_White', \n",
    "                         'B19013B_001':'Med_Income_Black', 'B19013C_001':'Med_Income_Nat_Am',\n",
    "                         'B19013D_001':'Med_Income_Asian', 'B19013I_001':'Hispanic'}, inplace=True)"
   ]
  },
  {
   "cell_type": "markdown",
   "metadata": {},
   "source": [
    "#### C. Health Insurance Data"
   ]
  },
  {
   "cell_type": "markdown",
   "metadata": {},
   "source": [
    "B27001_004\n",
    "HEALTH INSURANCE COVERAGE STATUS BY SEX BY AGE for Civilian Noninstitutionalized Population% Male:% Under 6 years            \n",
    "B27001_005\n",
    "HEALTH INSURANCE COVERAGE STATUS BY SEX BY AGE for Civilian Noninstitutionalized Population% Male:% Under 6 years:% With health insurance coverage       \n",
    "B27001_007\n",
    "HEALTH INSURANCE COVERAGE STATUS BY SEX BY AGE for Civilian Noninstitutionalized Population% Male:% 6 to 17 years:% With health insurance coverage            \n",
    "B27001_008\n",
    "HEALTH INSURANCE COVERAGE STATUS BY SEX BY AGE for Civilian Noninstitutionalized Population% Male:% 6 to 17 years:% No health insurance coverage               \n",
    "B27001_010\n",
    "HEALTH INSURANCE COVERAGE STATUS BY SEX BY AGE for Civilian Noninstitutionalized Population% Male:% 18 to 24 years:% With health insurance coverage          \n",
    "B27001_011\n",
    "HEALTH INSURANCE COVERAGE STATUS BY SEX BY AGE for Civilian Noninstitutionalized Population% Male:% 18 to 24 years:% No health insurance coverage            \n",
    "B27001_013\n",
    "HEALTH INSURANCE COVERAGE STATUS BY SEX BY AGE for Civilian Noninstitutionalized Population% Male:% 25 to 34 years:% With health insurance coverage             \n",
    "B27001_014\n",
    "HEALTH INSURANCE COVERAGE STATUS BY SEX BY AGE for Civilian Noninstitutionalized Population% Male:% 25 to 34 years:% No health insurance coverage             \n",
    "B27001_016\n",
    "HEALTH INSURANCE COVERAGE STATUS BY SEX BY AGE for Civilian Noninstitutionalized Population% Male:% 35 to 44 years:% With health insurance coverage          \n",
    "B27001_017\n",
    "HEALTH INSURANCE COVERAGE STATUS BY SEX BY AGE for Civilian Noninstitutionalized Population% Male:% 35 to 44 years:% No health insurance coverage              \n",
    "B27001_019\n",
    "HEALTH INSURANCE COVERAGE STATUS BY SEX BY AGE for Civilian Noninstitutionalized Population% Male:% 45 to 54 years:% With health insurance coverage        \n",
    "B27001_020\n",
    "HEALTH INSURANCE COVERAGE STATUS BY SEX BY AGE for Civilian Noninstitutionalized Population% Male:% 45 to 54 years:% No health insurance coverage          \n",
    "B27001_022\n",
    "HEALTH INSURANCE COVERAGE STATUS BY SEX BY AGE for Civilian Noninstitutionalized Population% Male:% 55 to 64 years:% With health insurance coverage            \n",
    "B27001_023\n",
    "HEALTH INSURANCE COVERAGE STATUS BY SEX BY AGE for Civilian Noninstitutionalized Population% Male:% 55 to 64 years:% No health insurance coverage           \n",
    "B27001_025\n",
    "HEALTH INSURANCE COVERAGE STATUS BY SEX BY AGE for Civilian Noninstitutionalized Population% Male:% 65 to 74 years:% With health insurance coverage              \n",
    "B27001_026\n",
    "HEALTH INSURANCE COVERAGE STATUS BY SEX BY AGE for Civilian Noninstitutionalized Population% Male:% 65 to 74 years:% No health insurance coverage             \n",
    "B27001_028\n",
    "HEALTH INSURANCE COVERAGE STATUS BY SEX BY AGE for Civilian Noninstitutionalized Population% Male:% 75 years and over:% With health insurance coverage            \n",
    "B27001_029\n",
    "HEALTH INSURANCE COVERAGE STATUS BY SEX BY AGE for Civilian Noninstitutionalized Population% Male:% 75 years and over:% No health insurance coverage               \n",
    "B27001_032\n",
    "HEALTH INSURANCE COVERAGE STATUS BY SEX BY AGE for Civilian Noninstitutionalized Population% Female:% Under 6 years:                 \n",
    "B27001_033\n",
    "HEALTH INSURANCE COVERAGE STATUS BY SEX BY AGE for Civilian Noninstitutionalized Population% Female:% Under 6 years:% With health insurance coverage       \n",
    "B27001_035\n",
    "HEALTH INSURANCE COVERAGE STATUS BY SEX BY AGE for Civilian Noninstitutionalized Population% Female:% 6 to 17 years:% With health insurance coverage         \n",
    "B27001_036\n",
    "HEALTH INSURANCE COVERAGE STATUS BY SEX BY AGE for Civilian Noninstitutionalized Population% Female:% 6 to 17 years:% No health insurance coverage            \n",
    "B27001_038\n",
    "HEALTH INSURANCE COVERAGE STATUS BY SEX BY AGE for Civilian Noninstitutionalized Population% Female:% 18 to 24 years:% With health insurance coverage               \n",
    "B27001_039\n",
    "HEALTH INSURANCE COVERAGE STATUS BY SEX BY AGE for Civilian Noninstitutionalized Population% Female:% 18 to 24 years:% No health insurance coverage              \n",
    "B27001_041\n",
    "HEALTH INSURANCE COVERAGE STATUS BY SEX BY AGE for Civilian Noninstitutionalized Population% Female:% 25 to 34 years:% With health insurance coverage            \n",
    "B27001_042\n",
    "HEALTH INSURANCE COVERAGE STATUS BY SEX BY AGE for Civilian Noninstitutionalized Population% Female:% 25 to 34 years:% No health insurance coverage          \n",
    "B27001_044\n",
    "HEALTH INSURANCE COVERAGE STATUS BY SEX BY AGE for Civilian Noninstitutionalized Population% Female:% 35 to 44 years:% With health insurance coverage          \n",
    "B27001_045\n",
    "HEALTH INSURANCE COVERAGE STATUS BY SEX BY AGE for Civilian Noninstitutionalized Population% Female:% 35 to 44 years:% No health insurance coverage          \n",
    "B27001_047\n",
    "HEALTH INSURANCE COVERAGE STATUS BY SEX BY AGE for Civilian Noninstitutionalized Population% Female:% 45 to 54 years:% With health insurance coverage             \n",
    "B27001_048\n",
    "HEALTH INSURANCE COVERAGE STATUS BY SEX BY AGE for Civilian Noninstitutionalized Population% Female:% 45 to 54 years:% No health insurance coverage           \n",
    "B27001_050\n",
    "HEALTH INSURANCE COVERAGE STATUS BY SEX BY AGE for Civilian Noninstitutionalized Population% Female:% 55 to 64 years:% With health insurance coverage          \n",
    "B27001_051\n",
    "HEALTH INSURANCE COVERAGE STATUS BY SEX BY AGE for Civilian Noninstitutionalized Population% Female:% 55 to 64 years:% No health insurance coverage           \n",
    "B27001_053\n",
    "HEALTH INSURANCE COVERAGE STATUS BY SEX BY AGE for Civilian Noninstitutionalized Population% Female:% 65 to 74 years:% With health insurance coverage            \n",
    "B27001_054\n",
    "HEALTH INSURANCE COVERAGE STATUS BY SEX BY AGE for Civilian Noninstitutionalized Population% Female:% 65 to 74 years:% No health insurance coverage              \n",
    "B27001_056\n",
    "HEALTH INSURANCE COVERAGE STATUS BY SEX BY AGE for Civilian Noninstitutionalized Population% Female:% 75 years and over:% With health insurance coverage          \n",
    "B27001_057\n",
    "HEALTH INSURANCE COVERAGE STATUS BY SEX BY AGE for Civilian Noninstitutionalized Population% Female:% 75 years and over:% No health insurance coverage           "
   ]
  },
  {
   "cell_type": "code",
   "execution_count": 16,
   "metadata": {},
   "outputs": [
    {
     "name": "stdout",
     "output_type": "stream",
     "text": [
      "61.2052743434906\n"
     ]
    }
   ],
   "source": [
    "cols = '`StateFIPS`, `CountyFIPS`,'\\\n",
    "       '`B27001_004`, `B27001_005`, `B27001_007`, `B27001_008`,'\\\n",
    "       '`B27001_010`, `B27001_011`, `B27001_013`, `B27001_014`,'\\\n",
    "       '`B27001_016`, `B27001_017`, `B27001_019`, `B27001_020`,'\\\n",
    "       '`B27001_022`, `B27001_023`, `B27001_025`, `B27001_026`,'\\\n",
    "       '`B27001_028`, `B27001_029`, `B27001_032`, `B27001_033`,'\\\n",
    "       '`B27001_035`, `B27001_036`, `B27001_038`, `B27001_039`,'\\\n",
    "       '`B27001_041`, `B27001_042`, `B27001_044`, `B27001_045`,'\\\n",
    "       '`B27001_047`, `B27001_048`, `B27001_050`, `B27001_051`,'\\\n",
    "       '`B27001_053`, `B27001_054`, `B27001_056`, `B27001_057`'\n",
    "# male <= 029   \n",
    "\n",
    "start = time.time()\n",
    "\n",
    "for i, state in enumerate(tables):\n",
    "    if i == 0:\n",
    "        hinsdf = ddw.query('uscensusbureau/acs-2015-5-e-healthinsurance',\n",
    "                  '''SELECT %s FROM `AK`\n",
    "                     WHERE SummaryLevel=50''' % cols).dataframe \n",
    "   \n",
    "    else:\n",
    "        df = ddw.query('uscensusbureau/acs-2015-5-e-healthinsurance',\n",
    "                       '''SELECT %s FROM `%s`\n",
    "                          WHERE SummaryLevel=50''' % (cols, state.upper())).dataframe\n",
    "        hinsdf = pd.concat([hinsdf, df], ignore_index=True)\n",
    "\n",
    "end = time.time()\n",
    "print(end - start)\n",
    "\n",
    "hinsdf['StateFIPS'] = hinsdf.StateFIPS.astype(np.object_)\\\n",
    "                                      .apply(lambda x: str(x))\\\n",
    "                                      .str.pad(2, 'left', '0')\n",
    "hinsdf['CountyFIPS'] = hinsdf.CountyFIPS.astype(np.object_)\\\n",
    "                                        .apply(lambda x: str(x))\\\n",
    "                                        .str.pad(3, 'left', '0')"
   ]
  },
  {
   "cell_type": "code",
   "execution_count": 17,
   "metadata": {
    "collapsed": true
   },
   "outputs": [
    {
     "name": "stdout",
     "output_type": "stream",
     "text": [
      "Processing health insurance data...\n",
      "Removed 36 B27001 columns\n",
      "Health insurance data processing complete.\n",
      "Final columns: ['StateFIPS', 'CountyFIPS', 'M_With', 'M_Without', 'F_With', 'F_Without', 'All_With', 'All_Without']\n",
      "Final shape: (3142, 8)\n"
     ]
    }
   ],
   "source": [
    "# Check if data has already been processed\n",
    "if 'M_With' in hinsdf.columns:\n",
    "    print(\"Health insurance data appears to already be processed.\")\n",
    "    print(\"Current columns:\", hinsdf.columns.tolist())\n",
    "    print(\"Shape:\", hinsdf.shape)\n",
    "else:\n",
    "    print(\"Processing health insurance data...\")\n",
    "    \n",
    "    # columns representing males' health insurance statistics\n",
    "    males = ['`B27001_004`', '`B27001_005`', '`B27001_007`', '`B27001_008`',\n",
    "               '`B27001_010`', '`B27001_011`', '`B27001_013`', '`B27001_014`',\n",
    "               '`B27001_016`', '`B27001_017`', '`B27001_019`', '`B27001_020`',\n",
    "               '`B27001_022`', '`B27001_023`', '`B27001_025`', '`B27001_026`',\n",
    "               '`B27001_028`', '`B27001_029`']\n",
    "\n",
    "    # females' health insurance statistics\n",
    "    females = ['`B27001_032`', '`B27001_033`', '`B27001_035`', '`B27001_036`', \n",
    "               '`B27001_038`', '`B27001_039`', '`B27001_041`', '`B27001_042`', \n",
    "               '`B27001_044`', '`B27001_045`', '`B27001_047`', '`B27001_048`', \n",
    "               '`B27001_050`', '`B27001_051`', '`B27001_053`', '`B27001_054`', \n",
    "               '`B27001_056`', '`B27001_057`']\n",
    "\n",
    "    # separate the \"with\" and \"without\" health insurance columns\n",
    "    males_with = []\n",
    "    males_without = []\n",
    "    females_with = []\n",
    "    females_without = []\n",
    "\n",
    "    # strip the backticks\n",
    "    for i, j in enumerate(males):\n",
    "        if i % 2 == 0:\n",
    "            males_with.append(j.replace('`', ''))\n",
    "        else:\n",
    "            males_without.append(j.replace('`', ''))\n",
    "            \n",
    "    for i, j in enumerate(females):\n",
    "        if i % 2 == 0:\n",
    "            females_with.append(j.replace('`', ''))\n",
    "        else:\n",
    "            females_without.append(j.replace('`', ''))\n",
    "\n",
    "    # Create features that sum all the individual age group\n",
    "    clist = [males_with, males_without, females_with, females_without]\n",
    "    newcols = ['M_With', 'M_Without', 'F_With', 'F_Without'] \n",
    "\n",
    "    # Check which columns actually exist before processing\n",
    "    available_cols = hinsdf.columns.tolist()\n",
    "    \n",
    "    for col in newcols:\n",
    "        hinsdf[col] = 0\n",
    "\n",
    "    # Only process columns that exist in the dataframe\n",
    "    for i in males_with:\n",
    "        if i in available_cols:\n",
    "            hinsdf['M_With'] += hinsdf[i]\n",
    "        else:\n",
    "            print(f\"Warning: Column {i} not found in dataframe\")\n",
    "            \n",
    "    for i in males_without:\n",
    "        if i in available_cols:\n",
    "            hinsdf['M_Without'] += hinsdf[i]\n",
    "        else:\n",
    "            print(f\"Warning: Column {i} not found in dataframe\")\n",
    "            \n",
    "    for i in females_with:\n",
    "        if i in available_cols:\n",
    "            hinsdf['F_With'] += hinsdf[i]\n",
    "        else:\n",
    "            print(f\"Warning: Column {i} not found in dataframe\")\n",
    "            \n",
    "    for i in females_without:\n",
    "        if i in available_cols:\n",
    "            hinsdf['F_Without'] += hinsdf[i]\n",
    "        else:\n",
    "            print(f\"Warning: Column {i} not found in dataframe\")\n",
    "\n",
    "    hinsdf['All_With'] = hinsdf.M_With + hinsdf.F_With\n",
    "    hinsdf['All_Without'] = hinsdf.M_Without + hinsdf.F_Without\n",
    "\n",
    "    # Remove all the individual age group variables\n",
    "    # but, save them as a df called hinsdf_extra (just in case)\n",
    "    b27001_cols = [col for col in hinsdf.columns if 'B27001' in col]\n",
    "    if b27001_cols:\n",
    "        hinsdf_extra = hinsdf[b27001_cols].copy()\n",
    "        hinsdf.drop(b27001_cols, axis=1, inplace=True)\n",
    "        print(f\"Removed {len(b27001_cols)} B27001 columns\")\n",
    "    else:\n",
    "        print(\"No B27001 columns found to remove\")\n",
    "    \n",
    "    print(\"Health insurance data processing complete.\")\n",
    "    print(\"Final columns:\", hinsdf.columns.tolist())\n",
    "    print(\"Final shape:\", hinsdf.shape)"
   ]
  },
  {
   "cell_type": "markdown",
   "metadata": {},
   "source": [
    "### Merge DataFrames    \n",
    "We're going to merge on the FIPS column. It's a 5-digit code. The first 2 digits are the 2-digit FIPS state code. The third, fourth, and fifth are the 3-digit FIPS county code.   \n",
    "1. First, let's create a \"FIPS\" in each dataframe by concatenating the state and county codes.   \n",
    "2. Then, let's check to make sure that they properly match up."
   ]
  },
  {
   "cell_type": "code",
   "execution_count": 18,
   "metadata": {
    "collapsed": true
   },
   "outputs": [],
   "source": [
    "dfs = [povdf, incomedf, hinsdf, incddf, mortdf]"
   ]
  },
  {
   "cell_type": "code",
   "execution_count": 19,
   "metadata": {
    "collapsed": true
   },
   "outputs": [],
   "source": [
    "# create FIPS features\n",
    "for df in [povdf, incomedf, hinsdf]:\n",
    "    df['FIPS'] = df.StateFIPS + df.CountyFIPS\n",
    "    df.drop(['StateFIPS', 'CountyFIPS'], axis=1, inplace=True)"
   ]
  },
  {
   "cell_type": "code",
   "execution_count": 20,
   "metadata": {},
   "outputs": [
    {
     "ename": "AttributeError",
     "evalue": "'DataFrame' object has no attribute 'FIPS'",
     "output_type": "error",
     "traceback": [
      "\u001b[31m---------------------------------------------------------------------------\u001b[39m",
      "\u001b[31mAttributeError\u001b[39m                            Traceback (most recent call last)",
      "\u001b[32m/tmp/ipykernel_1209249/2132048595.py\u001b[39m in \u001b[36m?\u001b[39m\u001b[34m()\u001b[39m\n\u001b[32m      1\u001b[39m \u001b[38;5;66;03m# use the pandas isin() method to see the intersections of FIPS features\u001b[39;00m\n\u001b[32m      2\u001b[39m \u001b[38;5;66;03m# across dataframes\u001b[39;00m\n\u001b[32m----> \u001b[39m\u001b[32m3\u001b[39m [[i, ii, sum(pd.Series(j.FIPS.unique()).isin(dfs[ii].FIPS))] \n\u001b[32m      4\u001b[39m     \u001b[38;5;28;01mfor\u001b[39;00m i, j \u001b[38;5;28;01min\u001b[39;00m enumerate(dfs) \u001b[38;5;28;01mfor\u001b[39;00m ii \u001b[38;5;28;01min\u001b[39;00m range(len(dfs))]\n",
      "\u001b[32m~/git/297101/labs/regression/.venv/lib/python3.12/site-packages/pandas/core/generic.py\u001b[39m in \u001b[36m?\u001b[39m\u001b[34m(self, name)\u001b[39m\n\u001b[32m   6314\u001b[39m             \u001b[38;5;28;01mand\u001b[39;00m name \u001b[38;5;28;01mnot\u001b[39;00m \u001b[38;5;28;01min\u001b[39;00m self._accessors\n\u001b[32m   6315\u001b[39m             \u001b[38;5;28;01mand\u001b[39;00m self._info_axis._can_hold_identifiers_and_holds_name(name)\n\u001b[32m   6316\u001b[39m         ):\n\u001b[32m   6317\u001b[39m             \u001b[38;5;28;01mreturn\u001b[39;00m self[name]\n\u001b[32m-> \u001b[39m\u001b[32m6318\u001b[39m         \u001b[38;5;28;01mreturn\u001b[39;00m object.__getattribute__(self, name)\n",
      "\u001b[31mAttributeError\u001b[39m: 'DataFrame' object has no attribute 'FIPS'"
     ]
    }
   ],
   "source": [
    "# use the pandas isin() method to see the intersections of FIPS features\n",
    "# across dataframes\n",
    "[[i, ii, sum(pd.Series(j.FIPS.unique()).isin(dfs[ii].FIPS))] \n",
    "    for i, j in enumerate(dfs) for ii in range(len(dfs))]"
   ]
  },
  {
   "cell_type": "code",
   "execution_count": 23,
   "metadata": {},
   "outputs": [
    {
     "name": "stdout",
     "output_type": "stream",
     "text": [
      "Unique FIPS: 3142\n",
      "Unique FIPS: 3142\n",
      "Unique FIPS: 3142\n",
      "Unique fips: 3141\n",
      "Unique fips: 3141\n"
     ]
    }
   ],
   "source": [
    "# look at the number of unique FIPS values per dataframe\n",
    "for i in dfs:\n",
    "    # Try both 'FIPS' and 'fips' columns, print if either exists\n",
    "    count_fips = len(i.FIPS.unique()) if 'FIPS' in i.columns else None\n",
    "    count_fips_lower = len(i.fips.unique()) if 'fips' in i.columns else None\n",
    "    if count_fips is not None:\n",
    "        print(f\"Unique FIPS: {count_fips}\")\n",
    "    if count_fips_lower is not None:\n",
    "        print(f\"Unique fips: {count_fips_lower}\")"
   ]
  },
  {
   "cell_type": "markdown",
   "metadata": {},
   "source": [
    "Lets write down the datasets before merging into cleaned up CSV files.\n"
   ]
  },
  {
   "cell_type": "code",
   "execution_count": 24,
   "metadata": {},
   "outputs": [],
   "source": [
    "# Write each dataframe in dfs to CSV using their variable names as filenames\n",
    "df_names = ['povdf', 'incomedf', 'hinsdf', 'incddf', 'mortdf']\n",
    "for df, name in zip(dfs, df_names):\n",
    "    df.to_csv(f\"{name}.csv\", index=False)"
   ]
  },
  {
   "cell_type": "code",
   "execution_count": 25,
   "metadata": {},
   "outputs": [
    {
     "data": {
      "text/plain": [
       "[     State                            AreaName  All_Poverty  M_Poverty  \\\n",
       " 0       AK      Aleutians East Borough, Alaska          553        334   \n",
       " 1       AK  Aleutians West Census Area, Alaska          499        273   \n",
       " 2       AK      Anchorage Municipality, Alaska        23914      10698   \n",
       " 3       AK          Bethel Census Area, Alaska         4364       2199   \n",
       " 4       AK         Bristol Bay Borough, Alaska           69         33   \n",
       " ...    ...                                 ...          ...        ...   \n",
       " 3137    WY          Sweetwater County, Wyoming         5058       2177   \n",
       " 3138    WY               Teton County, Wyoming         1638       1026   \n",
       " 3139    WY               Uinta County, Wyoming         2845       1453   \n",
       " 3140    WY            Washakie County, Wyoming         1137        489   \n",
       " 3141    WY              Weston County, Wyoming          958        354   \n",
       " \n",
       "       F_Poverty   FIPS  \n",
       " 0           219  02013  \n",
       " 1           226  02016  \n",
       " 2         13216  02020  \n",
       " 3          2165  02050  \n",
       " 4            36  02060  \n",
       " ...         ...    ...  \n",
       " 3137       2881  56037  \n",
       " 3138        612  56039  \n",
       " 3139       1392  56041  \n",
       " 3140        648  56043  \n",
       " 3141        604  56045  \n",
       " \n",
       " [3142 rows x 6 columns],\n",
       "       Med_Income  Med_Income_White  Med_Income_Black Med_Income_Nat_Am  \\\n",
       " 0        61518.0           72639.0           31250.0           54750.0   \n",
       " 1        84306.0           97321.0           93750.0           48750.0   \n",
       " 2        78326.0           87235.0           50535.0           53935.0   \n",
       " 3        51012.0           92647.0           73661.0           41594.0   \n",
       " 4        79750.0           88000.0               NaN           63333.0   \n",
       " ...          ...               ...               ...               ...   \n",
       " 3137     69022.0           69333.0           23535.0               NaN   \n",
       " 3138     75325.0           77651.0               NaN               NaN   \n",
       " 3139     56569.0           56532.0               NaN               NaN   \n",
       " 3140     47652.0           48110.0               NaN               NaN   \n",
       " 3141     57738.0           57842.0               NaN               NaN   \n",
       " \n",
       "      Med_Income_Asian  Hispanic   FIPS  \n",
       " 0             62679.0   51250.0  02013  \n",
       " 1             81250.0   77500.0  02016  \n",
       " 2             63757.0   53926.0  02020  \n",
       " 3            110625.0  160114.0  02050  \n",
       " 4                 NaN   25625.0  02060  \n",
       " ...               ...       ...    ...  \n",
       " 3137              NaN   53175.0  56037  \n",
       " 3138              NaN   41619.0  56039  \n",
       " 3139              NaN   40194.0  56041  \n",
       " 3140              NaN   29740.0  56043  \n",
       " 3141              NaN   31875.0  56045  \n",
       " \n",
       " [3142 rows x 7 columns],\n",
       "       M_With  M_Without  F_With  F_Without  All_With  All_Without   FIPS\n",
       " 0        876       1317     566        540      1442         1857  02013\n",
       " 1       2470        769    1707        564      4177         1333  02016\n",
       " 2     120747      23245  122426      21393    243173        44638  02020\n",
       " 3       6396       2708    6627       1774     13023         4482  02050\n",
       " 4        419        124     349         67       768          191  02060\n",
       " ...      ...        ...     ...        ...       ...          ...    ...\n",
       " 3137   19891       3318   18600       2683     38491         6001  56037\n",
       " 3138    8948       2558    9555       1192     18503         3750  56039\n",
       " 3139    9132       1413    8711       1503     17843         2916  56041\n",
       " 3140    3349        691    3490        703      6839         1394  56043\n",
       " 3141    2927        454    3087        314      6014          768  56045\n",
       " \n",
       " [3142 rows x 7 columns],\n",
       "                                 county   fips Incidence_Rate Avg_Ann_Incidence\n",
       " 0                 US (SEER+NPCR)(1,10)  00000           62.4            214614\n",
       " 1        Autauga County, Alabama(6,10)  01001           74.9                43\n",
       " 2        Baldwin County, Alabama(6,10)  01003           66.9               170\n",
       " 3        Barbour County, Alabama(6,10)  01005           74.6                25\n",
       " 4           Bibb County, Alabama(6,10)  01007           86.4                23\n",
       " ...                                ...    ...            ...               ...\n",
       " 3136  Sweetwater County, Wyoming(6,10)  56037           39.9                14\n",
       " 3137       Teton County, Wyoming(6,10)  56039           23.7                 5\n",
       " 3138       Uinta County, Wyoming(6,10)  56041           31.7                 6\n",
       " 3139    Washakie County, Wyoming(6,10)  56043             50                 6\n",
       " 3140      Weston County, Wyoming(6,10)  56045           44.9                 4\n",
       " \n",
       " [3141 rows x 4 columns],\n",
       "                                             county   fips Mortality_Rate  \\\n",
       " 0                                    United States  00000             46   \n",
       " 1                           Perry County, Kentucky  21193          125.6   \n",
       " 2                          Powell County, Kentucky  21197          125.3   \n",
       " 3                      North Slope Borough, Alaska  02185          124.9   \n",
       " 4                          Owsley County, Kentucky  21189          118.5   \n",
       " ...                                            ...    ...            ...   \n",
       " 3136  Yakutat City and Borough, Alaska<sup>3</sup>  02282              *   \n",
       " 3137             Yukon-Koyukuk Census Area, Alaska  02290              *   \n",
       " 3138                          Zapata County, Texas  48505              *   \n",
       " 3139                          Zavala County, Texas  48507              *   \n",
       " 3140                  Ziebach County, South Dakota  46137              *   \n",
       " \n",
       "      Avg_Ann_Deaths Recent Trend  \n",
       " 0           157,376      falling  \n",
       " 1                43       stable  \n",
       " 2                18       stable  \n",
       " 3                 5           **  \n",
       " 4                 8       stable  \n",
       " ...             ...          ...  \n",
       " 3136              *           **  \n",
       " 3137              *           **  \n",
       " 3138              *            *  \n",
       " 3139              *           **  \n",
       " 3140              *           **  \n",
       " \n",
       " [3141 rows x 5 columns]]"
      ]
     },
     "execution_count": 25,
     "metadata": {},
     "output_type": "execute_result"
    }
   ],
   "source": [
    "dfs"
   ]
  },
  {
   "cell_type": "code",
   "execution_count": 29,
   "metadata": {},
   "outputs": [
    {
     "name": "stdout",
     "output_type": "stream",
     "text": [
      "5    3142\n",
      "Name: count, dtype: int64 \n",
      " ----------\n",
      "5    3142\n",
      "Name: count, dtype: int64 \n",
      " ----------\n",
      "5    3142\n",
      "Name: count, dtype: int64 \n",
      " ----------\n",
      "5    3141\n",
      "Name: count, dtype: int64 \n",
      " ----------\n",
      "5    3141\n",
      "Name: count, dtype: int64 \n",
      " ----------\n"
     ]
    }
   ],
   "source": [
    "# check to see if all the FIPS values are 5 digits in length\n",
    "dfs = [povdf, incomedf, hinsdf, incddf, mortdf] # our 5 dataframes to merge\n",
    "for i, j in enumerate(dfs):\n",
    "    lens = []\n",
    "    for fips in j.FIPS.values:\n",
    "        lens.append(len(fips))\n",
    "    print(pd.Series(lens).value_counts(), '\\n', '-'*10)    "
   ]
  },
  {
   "cell_type": "markdown",
   "metadata": {},
   "source": [
    "OK, it looks like the FIPS column in each dataframe is formatted well and they match up. Let's join them together into one large dataframe."
   ]
  },
  {
   "cell_type": "code",
   "execution_count": 30,
   "metadata": {
    "collapsed": true
   },
   "outputs": [
    {
     "name": "stdout",
     "output_type": "stream",
     "text": [
      "\n",
      "FIPS columns check:\n",
      "povdf: ✓ FIPS column\n",
      "incomedf: ✓ FIPS column\n",
      "hinsdf: ✓ FIPS column\n",
      "incddf: ✓ FIPS column\n",
      "mortdf: ✓ FIPS column\n",
      "\n",
      "Merging dataframes:\n",
      "Starting with povdf: (3142, 6)\n",
      "After merging incomedf: (3142, 12)\n",
      "After merging hinsdf: (3142, 18)\n",
      "After merging incddf: (3134, 21)\n",
      "After merging mortdf: (3134, 25)\n",
      "\n",
      "Final merged dataframe shape: (3134, 25)\n",
      "Final columns: ['State', 'AreaName', 'All_Poverty', 'M_Poverty', 'F_Poverty', 'FIPS', 'Med_Income', 'Med_Income_White', 'Med_Income_Black', 'Med_Income_Nat_Am', 'Med_Income_Asian', 'Hispanic', 'M_With', 'M_Without', 'F_With', 'F_Without', 'All_With', 'All_Without', 'county_x', 'Incidence_Rate', 'Avg_Ann_Incidence', 'county_y', 'Mortality_Rate', 'Avg_Ann_Deaths', 'Recent Trend']\n"
     ]
    }
   ],
   "source": [
    "# Standardize FIPS column names - rename lowercase 'fips' to uppercase 'FIPS'\n",
    "if 'fips' in incddf.columns and 'FIPS' not in incddf.columns:\n",
    "    incddf.rename(columns={'fips': 'FIPS'}, inplace=True)\n",
    "    print(\"Renamed 'fips' to 'FIPS' in incddf\")\n",
    "\n",
    "if 'fips' in mortdf.columns and 'FIPS' not in mortdf.columns:\n",
    "    mortdf.rename(columns={'fips': 'FIPS'}, inplace=True)\n",
    "    print(\"Renamed 'fips' to 'FIPS' in mortdf\")\n",
    "\n",
    "# Verify all dataframes now have FIPS column\n",
    "print(\"\\nFIPS columns check:\")\n",
    "df_names = ['povdf', 'incomedf', 'hinsdf', 'incddf', 'mortdf']\n",
    "for i, df in enumerate(dfs):\n",
    "    has_fips = 'FIPS' in df.columns\n",
    "    print(f\"{df_names[i]}: {'✓' if has_fips else '✗'} FIPS column\")\n",
    "\n",
    "# Now merge the dataframes\n",
    "print(\"\\nMerging dataframes:\")\n",
    "for i, j in enumerate(dfs):\n",
    "    if i == 0:\n",
    "        fulldf = j.copy()\n",
    "        print(f\"Starting with {df_names[i]}: {fulldf.shape}\")\n",
    "    else:\n",
    "        fulldf = fulldf.merge(j, how='inner', on='FIPS')\n",
    "        print(f\"After merging {df_names[i]}: {fulldf.shape}\")\n",
    "\n",
    "print(f\"\\nFinal merged dataframe shape: {fulldf.shape}\")\n",
    "print(f\"Final columns: {fulldf.columns.tolist()}\")"
   ]
  },
  {
   "cell_type": "markdown",
   "metadata": {},
   "source": [
    "# 2. Exploratory Analysis (and continued data cleaning)"
   ]
  },
  {
   "cell_type": "code",
   "execution_count": 31,
   "metadata": {},
   "outputs": [
    {
     "data": {
      "text/plain": [
       "(3134, 25)"
      ]
     },
     "execution_count": 31,
     "metadata": {},
     "output_type": "execute_result"
    }
   ],
   "source": [
    "fulldf.shape"
   ]
  },
  {
   "cell_type": "code",
   "execution_count": 32,
   "metadata": {},
   "outputs": [
    {
     "data": {
      "application/vnd.microsoft.datawrangler.viewer.v0+json": {
       "columns": [
        {
         "name": "index",
         "rawType": "int64",
         "type": "integer"
        },
        {
         "name": "State",
         "rawType": "object",
         "type": "string"
        },
        {
         "name": "AreaName",
         "rawType": "object",
         "type": "string"
        },
        {
         "name": "All_Poverty",
         "rawType": "int64",
         "type": "integer"
        },
        {
         "name": "M_Poverty",
         "rawType": "int64",
         "type": "integer"
        },
        {
         "name": "F_Poverty",
         "rawType": "int64",
         "type": "integer"
        },
        {
         "name": "FIPS",
         "rawType": "object",
         "type": "string"
        },
        {
         "name": "Med_Income",
         "rawType": "float64",
         "type": "float"
        },
        {
         "name": "Med_Income_White",
         "rawType": "float64",
         "type": "float"
        },
        {
         "name": "Med_Income_Black",
         "rawType": "float64",
         "type": "float"
        },
        {
         "name": "Med_Income_Nat_Am",
         "rawType": "object",
         "type": "unknown"
        },
        {
         "name": "Med_Income_Asian",
         "rawType": "object",
         "type": "unknown"
        },
        {
         "name": "Hispanic",
         "rawType": "float64",
         "type": "float"
        },
        {
         "name": "M_With",
         "rawType": "int64",
         "type": "integer"
        },
        {
         "name": "M_Without",
         "rawType": "int64",
         "type": "integer"
        },
        {
         "name": "F_With",
         "rawType": "int64",
         "type": "integer"
        },
        {
         "name": "F_Without",
         "rawType": "int64",
         "type": "integer"
        },
        {
         "name": "All_With",
         "rawType": "int64",
         "type": "integer"
        },
        {
         "name": "All_Without",
         "rawType": "int64",
         "type": "integer"
        },
        {
         "name": "county_x",
         "rawType": "object",
         "type": "string"
        },
        {
         "name": "Incidence_Rate",
         "rawType": "object",
         "type": "string"
        },
        {
         "name": "Avg_Ann_Incidence",
         "rawType": "object",
         "type": "string"
        },
        {
         "name": "county_y",
         "rawType": "object",
         "type": "string"
        },
        {
         "name": "Mortality_Rate",
         "rawType": "object",
         "type": "string"
        },
        {
         "name": "Avg_Ann_Deaths",
         "rawType": "object",
         "type": "string"
        },
        {
         "name": "Recent Trend",
         "rawType": "object",
         "type": "string"
        }
       ],
       "ref": "cc941ce8-7334-4bb2-9b86-61cf06c1987c",
       "rows": [
        [
         "0",
         "AK",
         "Aleutians East Borough, Alaska",
         "553",
         "334",
         "219",
         "02013",
         "61518.0",
         "72639.0",
         "31250.0",
         "54750.0",
         "62679.0",
         "51250.0",
         "876",
         "1317",
         "566",
         "540",
         "1442",
         "1857",
         "Aleutians East Borough, Alaska(6,10)",
         "*",
         "3 or fewer",
         "Aleutians East Borough, Alaska<sup>3</sup>",
         "*",
         "*",
         "**"
        ],
        [
         "1",
         "AK",
         "Aleutians West Census Area, Alaska",
         "499",
         "273",
         "226",
         "02016",
         "84306.0",
         "97321.0",
         "93750.0",
         "48750.0",
         "81250.0",
         "77500.0",
         "2470",
         "769",
         "1707",
         "564",
         "4177",
         "1333",
         "Aleutians West Census Area, Alaska(6,10)",
         "*",
         "3 or fewer",
         "Aleutians West Census Area, Alaska<sup>3</sup>",
         "*",
         "*",
         "**"
        ],
        [
         "2",
         "AK",
         "Anchorage Municipality, Alaska",
         "23914",
         "10698",
         "13216",
         "02020",
         "78326.0",
         "87235.0",
         "50535.0",
         "53935.0",
         "63757.0",
         "53926.0",
         "120747",
         "23245",
         "122426",
         "21393",
         "243173",
         "44638",
         "Anchorage Borough, Alaska(6,10)",
         "61.5",
         "131",
         "Anchorage Borough, Alaska",
         "47.3",
         "96",
         "falling"
        ],
        [
         "3",
         "AK",
         "Bethel Census Area, Alaska",
         "4364",
         "2199",
         "2165",
         "02050",
         "51012.0",
         "92647.0",
         "73661.0",
         "41594.0",
         "110625.0",
         "160114.0",
         "6396",
         "2708",
         "6627",
         "1774",
         "13023",
         "4482",
         "Bethel Census Area, Alaska(6,10)",
         "62.7",
         "6",
         "Bethel Census Area, Alaska",
         "58.3",
         "5",
         "**"
        ],
        [
         "4",
         "AK",
         "Bristol Bay Borough, Alaska",
         "69",
         "33",
         "36",
         "02060",
         "79750.0",
         "88000.0",
         null,
         "63333.0",
         null,
         "25625.0",
         "419",
         "124",
         "349",
         "67",
         "768",
         "191",
         "Bristol Bay Borough, Alaska(6,10)",
         "*",
         "3 or fewer",
         "Bristol Bay Borough, Alaska",
         "*",
         "*",
         "**"
        ]
       ],
       "shape": {
        "columns": 25,
        "rows": 5
       }
      },
      "text/html": [
       "<div>\n",
       "<style scoped>\n",
       "    .dataframe tbody tr th:only-of-type {\n",
       "        vertical-align: middle;\n",
       "    }\n",
       "\n",
       "    .dataframe tbody tr th {\n",
       "        vertical-align: top;\n",
       "    }\n",
       "\n",
       "    .dataframe thead th {\n",
       "        text-align: right;\n",
       "    }\n",
       "</style>\n",
       "<table border=\"1\" class=\"dataframe\">\n",
       "  <thead>\n",
       "    <tr style=\"text-align: right;\">\n",
       "      <th></th>\n",
       "      <th>State</th>\n",
       "      <th>AreaName</th>\n",
       "      <th>All_Poverty</th>\n",
       "      <th>M_Poverty</th>\n",
       "      <th>F_Poverty</th>\n",
       "      <th>FIPS</th>\n",
       "      <th>Med_Income</th>\n",
       "      <th>Med_Income_White</th>\n",
       "      <th>Med_Income_Black</th>\n",
       "      <th>Med_Income_Nat_Am</th>\n",
       "      <th>...</th>\n",
       "      <th>F_Without</th>\n",
       "      <th>All_With</th>\n",
       "      <th>All_Without</th>\n",
       "      <th>county_x</th>\n",
       "      <th>Incidence_Rate</th>\n",
       "      <th>Avg_Ann_Incidence</th>\n",
       "      <th>county_y</th>\n",
       "      <th>Mortality_Rate</th>\n",
       "      <th>Avg_Ann_Deaths</th>\n",
       "      <th>Recent Trend</th>\n",
       "    </tr>\n",
       "  </thead>\n",
       "  <tbody>\n",
       "    <tr>\n",
       "      <th>0</th>\n",
       "      <td>AK</td>\n",
       "      <td>Aleutians East Borough, Alaska</td>\n",
       "      <td>553</td>\n",
       "      <td>334</td>\n",
       "      <td>219</td>\n",
       "      <td>02013</td>\n",
       "      <td>61518.0</td>\n",
       "      <td>72639.0</td>\n",
       "      <td>31250.0</td>\n",
       "      <td>54750.0</td>\n",
       "      <td>...</td>\n",
       "      <td>540</td>\n",
       "      <td>1442</td>\n",
       "      <td>1857</td>\n",
       "      <td>Aleutians East Borough, Alaska(6,10)</td>\n",
       "      <td>*</td>\n",
       "      <td>3 or fewer</td>\n",
       "      <td>Aleutians East Borough, Alaska&lt;sup&gt;3&lt;/sup&gt;</td>\n",
       "      <td>*</td>\n",
       "      <td>*</td>\n",
       "      <td>**</td>\n",
       "    </tr>\n",
       "    <tr>\n",
       "      <th>1</th>\n",
       "      <td>AK</td>\n",
       "      <td>Aleutians West Census Area, Alaska</td>\n",
       "      <td>499</td>\n",
       "      <td>273</td>\n",
       "      <td>226</td>\n",
       "      <td>02016</td>\n",
       "      <td>84306.0</td>\n",
       "      <td>97321.0</td>\n",
       "      <td>93750.0</td>\n",
       "      <td>48750.0</td>\n",
       "      <td>...</td>\n",
       "      <td>564</td>\n",
       "      <td>4177</td>\n",
       "      <td>1333</td>\n",
       "      <td>Aleutians West Census Area, Alaska(6,10)</td>\n",
       "      <td>*</td>\n",
       "      <td>3 or fewer</td>\n",
       "      <td>Aleutians West Census Area, Alaska&lt;sup&gt;3&lt;/sup&gt;</td>\n",
       "      <td>*</td>\n",
       "      <td>*</td>\n",
       "      <td>**</td>\n",
       "    </tr>\n",
       "    <tr>\n",
       "      <th>2</th>\n",
       "      <td>AK</td>\n",
       "      <td>Anchorage Municipality, Alaska</td>\n",
       "      <td>23914</td>\n",
       "      <td>10698</td>\n",
       "      <td>13216</td>\n",
       "      <td>02020</td>\n",
       "      <td>78326.0</td>\n",
       "      <td>87235.0</td>\n",
       "      <td>50535.0</td>\n",
       "      <td>53935.0</td>\n",
       "      <td>...</td>\n",
       "      <td>21393</td>\n",
       "      <td>243173</td>\n",
       "      <td>44638</td>\n",
       "      <td>Anchorage Borough, Alaska(6,10)</td>\n",
       "      <td>61.5</td>\n",
       "      <td>131</td>\n",
       "      <td>Anchorage Borough, Alaska</td>\n",
       "      <td>47.3</td>\n",
       "      <td>96</td>\n",
       "      <td>falling</td>\n",
       "    </tr>\n",
       "    <tr>\n",
       "      <th>3</th>\n",
       "      <td>AK</td>\n",
       "      <td>Bethel Census Area, Alaska</td>\n",
       "      <td>4364</td>\n",
       "      <td>2199</td>\n",
       "      <td>2165</td>\n",
       "      <td>02050</td>\n",
       "      <td>51012.0</td>\n",
       "      <td>92647.0</td>\n",
       "      <td>73661.0</td>\n",
       "      <td>41594.0</td>\n",
       "      <td>...</td>\n",
       "      <td>1774</td>\n",
       "      <td>13023</td>\n",
       "      <td>4482</td>\n",
       "      <td>Bethel Census Area, Alaska(6,10)</td>\n",
       "      <td>62.7</td>\n",
       "      <td>6</td>\n",
       "      <td>Bethel Census Area, Alaska</td>\n",
       "      <td>58.3</td>\n",
       "      <td>5</td>\n",
       "      <td>**</td>\n",
       "    </tr>\n",
       "    <tr>\n",
       "      <th>4</th>\n",
       "      <td>AK</td>\n",
       "      <td>Bristol Bay Borough, Alaska</td>\n",
       "      <td>69</td>\n",
       "      <td>33</td>\n",
       "      <td>36</td>\n",
       "      <td>02060</td>\n",
       "      <td>79750.0</td>\n",
       "      <td>88000.0</td>\n",
       "      <td>NaN</td>\n",
       "      <td>63333.0</td>\n",
       "      <td>...</td>\n",
       "      <td>67</td>\n",
       "      <td>768</td>\n",
       "      <td>191</td>\n",
       "      <td>Bristol Bay Borough, Alaska(6,10)</td>\n",
       "      <td>*</td>\n",
       "      <td>3 or fewer</td>\n",
       "      <td>Bristol Bay Borough, Alaska</td>\n",
       "      <td>*</td>\n",
       "      <td>*</td>\n",
       "      <td>**</td>\n",
       "    </tr>\n",
       "  </tbody>\n",
       "</table>\n",
       "<p>5 rows × 25 columns</p>\n",
       "</div>"
      ],
      "text/plain": [
       "  State                            AreaName  All_Poverty  M_Poverty  \\\n",
       "0    AK      Aleutians East Borough, Alaska          553        334   \n",
       "1    AK  Aleutians West Census Area, Alaska          499        273   \n",
       "2    AK      Anchorage Municipality, Alaska        23914      10698   \n",
       "3    AK          Bethel Census Area, Alaska         4364       2199   \n",
       "4    AK         Bristol Bay Borough, Alaska           69         33   \n",
       "\n",
       "   F_Poverty   FIPS  Med_Income  Med_Income_White  Med_Income_Black  \\\n",
       "0        219  02013     61518.0           72639.0           31250.0   \n",
       "1        226  02016     84306.0           97321.0           93750.0   \n",
       "2      13216  02020     78326.0           87235.0           50535.0   \n",
       "3       2165  02050     51012.0           92647.0           73661.0   \n",
       "4         36  02060     79750.0           88000.0               NaN   \n",
       "\n",
       "  Med_Income_Nat_Am  ... F_Without  All_With  All_Without  \\\n",
       "0           54750.0  ...       540      1442         1857   \n",
       "1           48750.0  ...       564      4177         1333   \n",
       "2           53935.0  ...     21393    243173        44638   \n",
       "3           41594.0  ...      1774     13023         4482   \n",
       "4           63333.0  ...        67       768          191   \n",
       "\n",
       "                                   county_x  Incidence_Rate  \\\n",
       "0      Aleutians East Borough, Alaska(6,10)               *   \n",
       "1  Aleutians West Census Area, Alaska(6,10)               *   \n",
       "2           Anchorage Borough, Alaska(6,10)            61.5   \n",
       "3          Bethel Census Area, Alaska(6,10)            62.7   \n",
       "4         Bristol Bay Borough, Alaska(6,10)               *   \n",
       "\n",
       "   Avg_Ann_Incidence                                        county_y  \\\n",
       "0         3 or fewer      Aleutians East Borough, Alaska<sup>3</sup>   \n",
       "1         3 or fewer  Aleutians West Census Area, Alaska<sup>3</sup>   \n",
       "2                131                       Anchorage Borough, Alaska   \n",
       "3                  6                      Bethel Census Area, Alaska   \n",
       "4         3 or fewer                     Bristol Bay Borough, Alaska   \n",
       "\n",
       "   Mortality_Rate Avg_Ann_Deaths Recent Trend  \n",
       "0               *              *           **  \n",
       "1               *              *           **  \n",
       "2            47.3             96      falling  \n",
       "3            58.3              5           **  \n",
       "4               *              *           **  \n",
       "\n",
       "[5 rows x 25 columns]"
      ]
     },
     "execution_count": 32,
     "metadata": {},
     "output_type": "execute_result"
    }
   ],
   "source": [
    "fulldf.head()"
   ]
  },
  {
   "cell_type": "code",
   "execution_count": 33,
   "metadata": {},
   "outputs": [
    {
     "name": "stdout",
     "output_type": "stream",
     "text": [
      "('State', 0)\n",
      "('AreaName', 0)\n",
      "('All_Poverty', 0)\n",
      "('M_Poverty', 0)\n",
      "('F_Poverty', 0)\n",
      "('FIPS', 0)\n",
      "('Med_Income', 1)\n",
      "('Med_Income_White', 2)\n",
      "('Med_Income_Black', 1210)\n",
      "('Med_Income_Nat_Am', 1660)\n",
      "('Med_Income_Asian', 1757)\n",
      "('Hispanic', 681)\n",
      "('M_With', 0)\n",
      "('M_Without', 0)\n",
      "('F_With', 0)\n",
      "('F_Without', 0)\n",
      "('All_With', 0)\n",
      "('All_Without', 0)\n",
      "('county_x', 0)\n",
      "('Incidence_Rate', 0)\n",
      "('Avg_Ann_Incidence', 0)\n",
      "('county_y', 0)\n",
      "('Mortality_Rate', 0)\n",
      "('Avg_Ann_Deaths', 0)\n",
      "('Recent Trend', 0)\n"
     ]
    }
   ],
   "source": [
    "# check for null values\n",
    "for col in fulldf.columns:\n",
    "    print((col, sum(fulldf[col].isnull())))"
   ]
  },
  {
   "cell_type": "markdown",
   "metadata": {},
   "source": [
    "The median income by ethnicity data is incomplete. Let's get rid of all but the broad \"Med_Income\" feature."
   ]
  },
  {
   "cell_type": "code",
   "execution_count": 34,
   "metadata": {
    "collapsed": true
   },
   "outputs": [],
   "source": [
    "fulldf.drop(['Med_Income_White', 'Med_Income_Black', 'Med_Income_Nat_Am',\n",
    "             'Med_Income_Asian', 'Hispanic'], axis=1, inplace=True)"
   ]
  },
  {
   "cell_type": "markdown",
   "metadata": {},
   "source": [
    "Let's create a data dictionary"
   ]
  },
  {
   "cell_type": "code",
   "execution_count": 35,
   "metadata": {},
   "outputs": [
    {
     "name": "stdout",
     "output_type": "stream",
     "text": [
      "Current fulldf has 20 columns:\n",
      " 0: State\n",
      " 1: AreaName\n",
      " 2: All_Poverty\n",
      " 3: M_Poverty\n",
      " 4: F_Poverty\n",
      " 5: FIPS\n",
      " 6: Med_Income\n",
      " 7: M_With\n",
      " 8: M_Without\n",
      " 9: F_With\n",
      "10: F_Without\n",
      "11: All_With\n",
      "12: All_Without\n",
      "13: county_x\n",
      "14: Incidence_Rate\n",
      "15: Avg_Ann_Incidence\n",
      "16: county_y\n",
      "17: Mortality_Rate\n",
      "18: Avg_Ann_Deaths\n",
      "19: Recent Trend\n",
      "\n",
      "Data dictionary created for 20 columns\n"
     ]
    },
    {
     "data": {
      "application/vnd.microsoft.datawrangler.viewer.v0+json": {
       "columns": [
        {
         "name": "index",
         "rawType": "int64",
         "type": "integer"
        },
        {
         "name": "Feature",
         "rawType": "object",
         "type": "string"
        },
        {
         "name": "Definition",
         "rawType": "object",
         "type": "string"
        },
        {
         "name": "Notes",
         "rawType": "object",
         "type": "string"
        }
       ],
       "ref": "b43fe3a9-4745-4c7e-853d-782293e08cea",
       "rows": [
        [
         "0",
         "State",
         "State name",
         ""
        ],
        [
         "1",
         "AreaName",
         "Area name (county)",
         ""
        ],
        [
         "2",
         "All_Poverty",
         "Both male and female reported below poverty line (Raw)",
         ""
        ],
        [
         "3",
         "M_Poverty",
         "Males below poverty (Raw)",
         ""
        ],
        [
         "4",
         "F_Poverty",
         "Females below poverty (Raw)",
         ""
        ],
        [
         "5",
         "FIPS",
         "State + County FIPS (Raw)",
         ""
        ],
        [
         "6",
         "Med_Income",
         "Median income all ethnicities (Raw)",
         ""
        ],
        [
         "7",
         "M_With",
         "Males with health insurance (Raw)",
         ""
        ],
        [
         "8",
         "M_Without",
         "Males without health insurance (Raw)",
         ""
        ],
        [
         "9",
         "F_With",
         "Females with health insurance (Raw)",
         ""
        ],
        [
         "10",
         "F_Without",
         "Females without health insurance (Raw)",
         ""
        ],
        [
         "11",
         "All_With",
         "Males and Females with health insurance (Raw)",
         ""
        ],
        [
         "12",
         "All_Without",
         "Males and Females without health insurance (Raw)",
         ""
        ],
        [
         "13",
         "county_x",
         "County name (from cancer incidence data)",
         ""
        ],
        [
         "14",
         "Incidence_Rate",
         "Lung cancer incidence rate (per 100,000)",
         "'*' = fewer than 16 reported cases"
        ],
        [
         "15",
         "Avg_Ann_Incidence",
         "Average annual lung cancer incidence (Raw)",
         ""
        ],
        [
         "16",
         "county_y",
         "County name (from cancer mortality data)",
         ""
        ],
        [
         "17",
         "Mortality_Rate",
         "Lung cancer mortality rate (per 100,000)",
         "'*' = fewer than 16 reported cases"
        ],
        [
         "18",
         "Avg_Ann_Deaths",
         "Average annual lung cancer deaths (Raw)",
         ""
        ],
        [
         "19",
         "Recent Trend",
         "Recent 5-year trend in lung cancer mortality (stable/rising/falling)",
         "Values: stable, rising, falling. '*' and '**' converted to 'stable'"
        ]
       ],
       "shape": {
        "columns": 3,
        "rows": 20
       }
      },
      "text/html": [
       "<div>\n",
       "<style scoped>\n",
       "    .dataframe tbody tr th:only-of-type {\n",
       "        vertical-align: middle;\n",
       "    }\n",
       "\n",
       "    .dataframe tbody tr th {\n",
       "        vertical-align: top;\n",
       "    }\n",
       "\n",
       "    .dataframe thead th {\n",
       "        text-align: right;\n",
       "    }\n",
       "</style>\n",
       "<table border=\"1\" class=\"dataframe\">\n",
       "  <thead>\n",
       "    <tr style=\"text-align: right;\">\n",
       "      <th></th>\n",
       "      <th>Feature</th>\n",
       "      <th>Definition</th>\n",
       "      <th>Notes</th>\n",
       "    </tr>\n",
       "  </thead>\n",
       "  <tbody>\n",
       "    <tr>\n",
       "      <th>0</th>\n",
       "      <td>State</td>\n",
       "      <td>State name</td>\n",
       "      <td></td>\n",
       "    </tr>\n",
       "    <tr>\n",
       "      <th>1</th>\n",
       "      <td>AreaName</td>\n",
       "      <td>Area name (county)</td>\n",
       "      <td></td>\n",
       "    </tr>\n",
       "    <tr>\n",
       "      <th>2</th>\n",
       "      <td>All_Poverty</td>\n",
       "      <td>Both male and female reported below poverty li...</td>\n",
       "      <td></td>\n",
       "    </tr>\n",
       "    <tr>\n",
       "      <th>3</th>\n",
       "      <td>M_Poverty</td>\n",
       "      <td>Males below poverty (Raw)</td>\n",
       "      <td></td>\n",
       "    </tr>\n",
       "    <tr>\n",
       "      <th>4</th>\n",
       "      <td>F_Poverty</td>\n",
       "      <td>Females below poverty (Raw)</td>\n",
       "      <td></td>\n",
       "    </tr>\n",
       "    <tr>\n",
       "      <th>5</th>\n",
       "      <td>FIPS</td>\n",
       "      <td>State + County FIPS (Raw)</td>\n",
       "      <td></td>\n",
       "    </tr>\n",
       "    <tr>\n",
       "      <th>6</th>\n",
       "      <td>Med_Income</td>\n",
       "      <td>Median income all ethnicities (Raw)</td>\n",
       "      <td></td>\n",
       "    </tr>\n",
       "    <tr>\n",
       "      <th>7</th>\n",
       "      <td>M_With</td>\n",
       "      <td>Males with health insurance (Raw)</td>\n",
       "      <td></td>\n",
       "    </tr>\n",
       "    <tr>\n",
       "      <th>8</th>\n",
       "      <td>M_Without</td>\n",
       "      <td>Males without health insurance (Raw)</td>\n",
       "      <td></td>\n",
       "    </tr>\n",
       "    <tr>\n",
       "      <th>9</th>\n",
       "      <td>F_With</td>\n",
       "      <td>Females with health insurance (Raw)</td>\n",
       "      <td></td>\n",
       "    </tr>\n",
       "    <tr>\n",
       "      <th>10</th>\n",
       "      <td>F_Without</td>\n",
       "      <td>Females without health insurance (Raw)</td>\n",
       "      <td></td>\n",
       "    </tr>\n",
       "    <tr>\n",
       "      <th>11</th>\n",
       "      <td>All_With</td>\n",
       "      <td>Males and Females with health insurance (Raw)</td>\n",
       "      <td></td>\n",
       "    </tr>\n",
       "    <tr>\n",
       "      <th>12</th>\n",
       "      <td>All_Without</td>\n",
       "      <td>Males and Females without health insurance (Raw)</td>\n",
       "      <td></td>\n",
       "    </tr>\n",
       "    <tr>\n",
       "      <th>13</th>\n",
       "      <td>county_x</td>\n",
       "      <td>County name (from cancer incidence data)</td>\n",
       "      <td></td>\n",
       "    </tr>\n",
       "    <tr>\n",
       "      <th>14</th>\n",
       "      <td>Incidence_Rate</td>\n",
       "      <td>Lung cancer incidence rate (per 100,000)</td>\n",
       "      <td>'*' = fewer than 16 reported cases</td>\n",
       "    </tr>\n",
       "    <tr>\n",
       "      <th>15</th>\n",
       "      <td>Avg_Ann_Incidence</td>\n",
       "      <td>Average annual lung cancer incidence (Raw)</td>\n",
       "      <td></td>\n",
       "    </tr>\n",
       "    <tr>\n",
       "      <th>16</th>\n",
       "      <td>county_y</td>\n",
       "      <td>County name (from cancer mortality data)</td>\n",
       "      <td></td>\n",
       "    </tr>\n",
       "    <tr>\n",
       "      <th>17</th>\n",
       "      <td>Mortality_Rate</td>\n",
       "      <td>Lung cancer mortality rate (per 100,000)</td>\n",
       "      <td>'*' = fewer than 16 reported cases</td>\n",
       "    </tr>\n",
       "    <tr>\n",
       "      <th>18</th>\n",
       "      <td>Avg_Ann_Deaths</td>\n",
       "      <td>Average annual lung cancer deaths (Raw)</td>\n",
       "      <td></td>\n",
       "    </tr>\n",
       "    <tr>\n",
       "      <th>19</th>\n",
       "      <td>Recent Trend</td>\n",
       "      <td>Recent 5-year trend in lung cancer mortality (...</td>\n",
       "      <td>Values: stable, rising, falling. '*' and '**' ...</td>\n",
       "    </tr>\n",
       "  </tbody>\n",
       "</table>\n",
       "</div>"
      ],
      "text/plain": [
       "              Feature                                         Definition  \\\n",
       "0               State                                         State name   \n",
       "1            AreaName                                 Area name (county)   \n",
       "2         All_Poverty  Both male and female reported below poverty li...   \n",
       "3           M_Poverty                          Males below poverty (Raw)   \n",
       "4           F_Poverty                        Females below poverty (Raw)   \n",
       "5                FIPS                          State + County FIPS (Raw)   \n",
       "6          Med_Income                Median income all ethnicities (Raw)   \n",
       "7              M_With                  Males with health insurance (Raw)   \n",
       "8           M_Without               Males without health insurance (Raw)   \n",
       "9              F_With                Females with health insurance (Raw)   \n",
       "10          F_Without             Females without health insurance (Raw)   \n",
       "11           All_With      Males and Females with health insurance (Raw)   \n",
       "12        All_Without   Males and Females without health insurance (Raw)   \n",
       "13           county_x           County name (from cancer incidence data)   \n",
       "14     Incidence_Rate           Lung cancer incidence rate (per 100,000)   \n",
       "15  Avg_Ann_Incidence         Average annual lung cancer incidence (Raw)   \n",
       "16           county_y           County name (from cancer mortality data)   \n",
       "17     Mortality_Rate           Lung cancer mortality rate (per 100,000)   \n",
       "18     Avg_Ann_Deaths            Average annual lung cancer deaths (Raw)   \n",
       "19       Recent Trend  Recent 5-year trend in lung cancer mortality (...   \n",
       "\n",
       "                                                Notes  \n",
       "0                                                      \n",
       "1                                                      \n",
       "2                                                      \n",
       "3                                                      \n",
       "4                                                      \n",
       "5                                                      \n",
       "6                                                      \n",
       "7                                                      \n",
       "8                                                      \n",
       "9                                                      \n",
       "10                                                     \n",
       "11                                                     \n",
       "12                                                     \n",
       "13                                                     \n",
       "14                 '*' = fewer than 16 reported cases  \n",
       "15                                                     \n",
       "16                                                     \n",
       "17                 '*' = fewer than 16 reported cases  \n",
       "18                                                     \n",
       "19  Values: stable, rising, falling. '*' and '**' ...  "
      ]
     },
     "execution_count": 35,
     "metadata": {},
     "output_type": "execute_result"
    }
   ],
   "source": [
    "data_dict = pd.DataFrame(fulldf.columns.values, index=range(len(fulldf.columns)), columns=['Feature'])\n",
    "\n",
    "# Print current columns to see what we're working with\n",
    "print(f\"Current fulldf has {len(fulldf.columns)} columns:\")\n",
    "for i, col in enumerate(fulldf.columns):\n",
    "    print(f\"{i:2d}: {col}\")\n",
    "\n",
    "# Create a dictionary mapping column names to their definitions\n",
    "column_definitions = {\n",
    "    'State': 'State name',\n",
    "    'AreaName': 'Area name (county)',\n",
    "    'All_Poverty': 'Both male and female reported below poverty line (Raw)',\n",
    "    'M_Poverty': 'Males below poverty (Raw)',\n",
    "    'F_Poverty': 'Females below poverty (Raw)',\n",
    "    'FIPS': 'State + County FIPS (Raw)',\n",
    "    'Med_Income': 'Median income all ethnicities (Raw)',\n",
    "    'Med_Income_White': 'Median income for White population (Raw)',\n",
    "    'Med_Income_Black': 'Median income for Black population (Raw)',\n",
    "    'Med_Income_Nat_Am': 'Median income for Native American population (Raw)',\n",
    "    'Med_Income_Asian': 'Median income for Asian population (Raw)',\n",
    "    'Hispanic': 'Hispanic population data (Raw)',\n",
    "    'M_With': 'Males with health insurance (Raw)',\n",
    "    'M_Without': 'Males without health insurance (Raw)',\n",
    "    'F_With': 'Females with health insurance (Raw)',\n",
    "    'F_Without': 'Females without health insurance (Raw)',\n",
    "    'All_With': 'Males and Females with health insurance (Raw)',\n",
    "    'All_Without': 'Males and Females without health insurance (Raw)',\n",
    "    'county_x': 'County name (from cancer incidence data)',\n",
    "    'Incidence_Rate': 'Lung cancer incidence rate (per 100,000)',\n",
    "    'Avg_Ann_Incidence': 'Average annual lung cancer incidence (Raw)',\n",
    "    'county_y': 'County name (from cancer mortality data)',\n",
    "    'Mortality_Rate': 'Lung cancer mortality rate (per 100,000)',\n",
    "    'Avg_Ann_Deaths': 'Average annual lung cancer deaths (Raw)',\n",
    "    'Mortality_Rate_numeric': 'Lung cancer mortality rate (per 100,000) - numeric format',\n",
    "    'Recent Trend': 'Recent 5-year trend in lung cancer mortality (stable/rising/falling)',\n",
    "    'Rising': 'Dummy variable: 1 if recent trend is rising, 0 otherwise',\n",
    "    'Falling': 'Dummy variable: 1 if recent trend is falling, 0 otherwise'\n",
    "}\n",
    "\n",
    "# Create definitions list based on current columns\n",
    "data_dict['Definition'] = [column_definitions.get(col, f'Definition for {col}') for col in fulldf.columns]\n",
    "\n",
    "data_dict['Notes'] = ''\n",
    "# Add notes for cancer rate columns\n",
    "if 'Incidence_Rate' in fulldf.columns:\n",
    "    incidence_rate_idx = fulldf.columns.get_loc('Incidence_Rate')\n",
    "    data_dict.loc[incidence_rate_idx, 'Notes'] = \"'*' = fewer than 16 reported cases\"\n",
    "\n",
    "if 'Mortality_Rate' in fulldf.columns:\n",
    "    mortality_rate_idx = fulldf.columns.get_loc('Mortality_Rate')\n",
    "    data_dict.loc[mortality_rate_idx, 'Notes'] = \"'*' = fewer than 16 reported cases\"\n",
    "\n",
    "if 'Recent Trend' in fulldf.columns:\n",
    "    recent_trend_idx = fulldf.columns.get_loc('Recent Trend')\n",
    "    data_dict.loc[recent_trend_idx, 'Notes'] = \"Values: stable, rising, falling. '*' and '**' converted to 'stable'\"\n",
    "\n",
    "print(f\"\\nData dictionary created for {len(fulldf.columns)} columns\")\n",
    "data_dict"
   ]
  },
  {
   "cell_type": "markdown",
   "metadata": {},
   "source": [
    "Next, we need to format all of our numeric features as numeric objects (rather than strings or other types).    \n",
    "Let's take a closer look."
   ]
  },
  {
   "cell_type": "code",
   "execution_count": 36,
   "metadata": {},
   "outputs": [
    {
     "name": "stdout",
     "output_type": "stream",
     "text": [
      "State\n",
      " <class 'str'>    3134\n",
      "Name: count, dtype: int64 \n",
      " ------------------------------\n",
      "AreaName\n",
      " <class 'str'>    3134\n",
      "Name: count, dtype: int64 \n",
      " ------------------------------\n",
      "All_Poverty\n",
      " <class 'int'>    3134\n",
      "Name: count, dtype: int64 \n",
      " ------------------------------\n",
      "M_Poverty\n",
      " <class 'int'>    3134\n",
      "Name: count, dtype: int64 \n",
      " ------------------------------\n",
      "F_Poverty\n",
      " <class 'int'>    3134\n",
      "Name: count, dtype: int64 \n",
      " ------------------------------\n",
      "FIPS\n",
      " <class 'str'>    3134\n",
      "Name: count, dtype: int64 \n",
      " ------------------------------\n",
      "Med_Income\n",
      " <class 'float'>    3134\n",
      "Name: count, dtype: int64 \n",
      " ------------------------------\n",
      "M_With\n",
      " <class 'int'>    3134\n",
      "Name: count, dtype: int64 \n",
      " ------------------------------\n",
      "M_Without\n",
      " <class 'int'>    3134\n",
      "Name: count, dtype: int64 \n",
      " ------------------------------\n",
      "F_With\n",
      " <class 'int'>    3134\n",
      "Name: count, dtype: int64 \n",
      " ------------------------------\n",
      "F_Without\n",
      " <class 'int'>    3134\n",
      "Name: count, dtype: int64 \n",
      " ------------------------------\n",
      "All_With\n",
      " <class 'int'>    3134\n",
      "Name: count, dtype: int64 \n",
      " ------------------------------\n",
      "All_Without\n",
      " <class 'int'>    3134\n",
      "Name: count, dtype: int64 \n",
      " ------------------------------\n",
      "county_x\n",
      " <class 'str'>    3134\n",
      "Name: count, dtype: int64 \n",
      " ------------------------------\n",
      "Incidence_Rate\n",
      " <class 'str'>    3134\n",
      "Name: count, dtype: int64 \n",
      " ------------------------------\n",
      "Avg_Ann_Incidence\n",
      " <class 'str'>    3134\n",
      "Name: count, dtype: int64 \n",
      " ------------------------------\n",
      "county_y\n",
      " <class 'str'>    3134\n",
      "Name: count, dtype: int64 \n",
      " ------------------------------\n",
      "Mortality_Rate\n",
      " <class 'str'>    3134\n",
      "Name: count, dtype: int64 \n",
      " ------------------------------\n",
      "Avg_Ann_Deaths\n",
      " <class 'str'>    3134\n",
      "Name: count, dtype: int64 \n",
      " ------------------------------\n",
      "Recent Trend\n",
      " <class 'str'>    3134\n",
      "Name: count, dtype: int64 \n",
      " ------------------------------\n"
     ]
    }
   ],
   "source": [
    "def get_types(col_name):\n",
    "    ts = (pd.Series([type(i) for i in fulldf[col_name]]).value_counts())\n",
    "    print(\"%s\\n\" % feature, ts, \"\\n\", \"-\"*30)\n",
    "\n",
    "for feature in fulldf.columns:\n",
    "    get_types(feature)"
   ]
  },
  {
   "cell_type": "markdown",
   "metadata": {},
   "source": [
    "### Columns that seem to need to be fixed: Med_Income, Incidence_Rate, Avg_Ann_Incidence, Mortality_Rate, Avg_Ann_Deaths"
   ]
  },
  {
   "cell_type": "code",
   "execution_count": 37,
   "metadata": {},
   "outputs": [
    {
     "name": "stdout",
     "output_type": "stream",
     "text": [
      "*    325\n",
      "Name: count, dtype: int64\n"
     ]
    }
   ],
   "source": [
    "# Mortality_Rate\n",
    "# This script isolates values that fail to convert to numeric\n",
    "def f(column):\n",
    "    types = []\n",
    "    for _, j in enumerate(column):\n",
    "        try:\n",
    "            pd.to_numeric(j)\n",
    "            \n",
    "        except:\n",
    "            types.append(j)\n",
    "    print(pd.Series(types).value_counts())\n",
    "\n",
    "f(fulldf.Mortality_Rate)\n"
   ]
  },
  {
   "cell_type": "markdown",
   "metadata": {},
   "source": [
    "We can see 325 of the Mortality_Rate samples contain an asterisk. We can see from the documentation that the asterisk represents a suppression of the data in instances when fewer then 16 annual cases were reported.     \n",
    "     \n",
    "### **(!)Note:** We have a decision to make about what to do with the 325 counties which reported fewer than 16 deaths and have missing mortality rate values (*).    \n",
    "* Is the fact that fewer than 16 cases were reported due to poor reporting? In that case we may want to delete those observations. Or, we may want to try to impute the values.    \n",
    "* Do we think these data points are accurate? In that case we may want to change \"*\" to zero, or a number smaller than 16.    \n",
    "* If the observations are actually valid and we remove them, then we add bias to the model.    \n",
    "* If the observations are noise, then we should either delete them or impute them.    \n",
    "* The key here is to make in informed decision and to prepare an explanation and defense of why you made that decision.    \n",
    "* Let's explore the data to inform our decision."
   ]
  },
  {
   "cell_type": "code",
   "execution_count": 38,
   "metadata": {},
   "outputs": [
    {
     "data": {
      "application/vnd.microsoft.datawrangler.viewer.v0+json": {
       "columns": [
        {
         "name": "State",
         "rawType": "object",
         "type": "string"
        },
        {
         "name": "count",
         "rawType": "int64",
         "type": "integer"
        }
       ],
       "ref": "88f18470-c70e-4978-868c-dd080fd0d067",
       "rows": [
        [
         "TX",
         "47"
        ],
        [
         "NE",
         "31"
        ],
        [
         "SD",
         "24"
        ],
        [
         "ND",
         "22"
        ],
        [
         "CO",
         "16"
        ],
        [
         "MT",
         "15"
        ],
        [
         "UT",
         "10"
        ],
        [
         "ID",
         "10"
        ],
        [
         "AK",
         "8"
        ],
        [
         "NM",
         "6"
        ],
        [
         "OK",
         "4"
        ],
        [
         "GA",
         "4"
        ],
        [
         "OR",
         "3"
        ],
        [
         "WY",
         "2"
        ],
        [
         "CA",
         "2"
        ],
        [
         "VA",
         "2"
        ],
        [
         "HI",
         "1"
        ],
        [
         "MO",
         "1"
        ],
        [
         "MI",
         "1"
        ],
        [
         "MS",
         "1"
        ],
        [
         "WA",
         "1"
        ]
       ],
       "shape": {
        "columns": 1,
        "rows": 21
       }
      },
      "text/plain": [
       "State\n",
       "TX    47\n",
       "NE    31\n",
       "SD    24\n",
       "ND    22\n",
       "CO    16\n",
       "MT    15\n",
       "UT    10\n",
       "ID    10\n",
       "AK     8\n",
       "NM     6\n",
       "OK     4\n",
       "GA     4\n",
       "OR     3\n",
       "WY     2\n",
       "CA     2\n",
       "VA     2\n",
       "HI     1\n",
       "MO     1\n",
       "MI     1\n",
       "MS     1\n",
       "WA     1\n",
       "Name: count, dtype: int64"
      ]
     },
     "execution_count": 38,
     "metadata": {},
     "output_type": "execute_result"
    }
   ],
   "source": [
    "# which states are associated with the \"*\"s?\n",
    "fulldf.loc[fulldf.Incidence_Rate=='*', 'State'].value_counts()"
   ]
  },
  {
   "cell_type": "code",
   "execution_count": 39,
   "metadata": {},
   "outputs": [
    {
     "name": "stdout",
     "output_type": "stream",
     "text": [
      "min 9.2 max 125.6\n"
     ]
    },
    {
     "data": {
      "image/png": "[encoded data removed]",
      "text/plain": [
       "<Figure size 1400x700 with 1 Axes>"
      ]
     },
     "metadata": {},
     "output_type": "display_data"
    }
   ],
   "source": [
    "# Histogram to see how exceptional a low rate of mortality is\n",
    "mhist = pd.to_numeric(fulldf.Mortality_Rate[fulldf.Mortality_Rate != '*'])\n",
    "print(\"min\", mhist.min(), \"max\", mhist.max())\n",
    "\n",
    "# Use seaborn for plotting as requested\n",
    "plt.figure(figsize=(14, 7))\n",
    "sns.histplot(mhist, bins=20, kde=True)\n",
    "plt.title('Distribution of Lung Cancer Mortality Rates')\n",
    "plt.xlabel('Mortality Rate (per 100,000)')\n",
    "plt.ylabel('Frequency')\n",
    "plt.show()"
   ]
  },
  {
   "cell_type": "markdown",
   "metadata": {},
   "source": [
    "I feel like if we can show that the counties with asterisks are all low population, then we should treat them as valid and replace them with a low value (eg, 8). If they're not all low-population, then that may suggest that it's noise and we should remove those observations.      \n",
    "\n",
    "Let's go ahead and bring in some population by county data.   \n",
    "I went to data.world and entered \"population by county\" into the search field. I found [this dataset](https://data.world/nrippner/us-population-estimates-2015), which meets our needs perfectly:   \n",
    "![popbycounty.png](https://data.world/api/nrippner/dataset/images/file/raw/popbycounty.png)    \n",
    "      \n",
    "Let's grab 3 columns from the dataset: 'POPESTIMATE2015', 'STATE', & 'COUNTY'"
   ]
  },
  {
   "cell_type": "code",
   "execution_count": 40,
   "metadata": {
    "collapsed": true
   },
   "outputs": [],
   "source": [
    "populationdf = ddw.query('nrippner/us-population-estimates-2015',\n",
    "                         '''SELECT `POPESTIMATE2015`, `STATE`, `COUNTY`\n",
    "                            FROM `CO-EST2015-alldata`''').dataframe"
   ]
  },
  {
   "cell_type": "code",
   "execution_count": 41,
   "metadata": {},
   "outputs": [
    {
     "data": {
      "text/plain": [
       "(3193, 3)"
      ]
     },
     "execution_count": 41,
     "metadata": {},
     "output_type": "execute_result"
    }
   ],
   "source": [
    "populationdf.shape"
   ]
  },
  {
   "cell_type": "code",
   "execution_count": 42,
   "metadata": {},
   "outputs": [
    {
     "data": {
      "application/vnd.microsoft.datawrangler.viewer.v0+json": {
       "columns": [
        {
         "name": "index",
         "rawType": "int64",
         "type": "integer"
        },
        {
         "name": "POPESTIMATE2015",
         "rawType": "int64",
         "type": "integer"
        },
        {
         "name": "STATE",
         "rawType": "int64",
         "type": "integer"
        },
        {
         "name": "COUNTY",
         "rawType": "int64",
         "type": "integer"
        }
       ],
       "ref": "2d95ae70-b236-4aae-b292-1d36dcfc758e",
       "rows": [
        [
         "0",
         "4858979",
         "1",
         "0"
        ],
        [
         "1",
         "55347",
         "1",
         "1"
        ],
        [
         "2",
         "203709",
         "1",
         "3"
        ],
        [
         "3",
         "26489",
         "1",
         "5"
        ],
        [
         "4",
         "22583",
         "1",
         "7"
        ]
       ],
       "shape": {
        "columns": 3,
        "rows": 5
       }
      },
      "text/html": [
       "<div>\n",
       "<style scoped>\n",
       "    .dataframe tbody tr th:only-of-type {\n",
       "        vertical-align: middle;\n",
       "    }\n",
       "\n",
       "    .dataframe tbody tr th {\n",
       "        vertical-align: top;\n",
       "    }\n",
       "\n",
       "    .dataframe thead th {\n",
       "        text-align: right;\n",
       "    }\n",
       "</style>\n",
       "<table border=\"1\" class=\"dataframe\">\n",
       "  <thead>\n",
       "    <tr style=\"text-align: right;\">\n",
       "      <th></th>\n",
       "      <th>POPESTIMATE2015</th>\n",
       "      <th>STATE</th>\n",
       "      <th>COUNTY</th>\n",
       "    </tr>\n",
       "  </thead>\n",
       "  <tbody>\n",
       "    <tr>\n",
       "      <th>0</th>\n",
       "      <td>4858979</td>\n",
       "      <td>1</td>\n",
       "      <td>0</td>\n",
       "    </tr>\n",
       "    <tr>\n",
       "      <th>1</th>\n",
       "      <td>55347</td>\n",
       "      <td>1</td>\n",
       "      <td>1</td>\n",
       "    </tr>\n",
       "    <tr>\n",
       "      <th>2</th>\n",
       "      <td>203709</td>\n",
       "      <td>1</td>\n",
       "      <td>3</td>\n",
       "    </tr>\n",
       "    <tr>\n",
       "      <th>3</th>\n",
       "      <td>26489</td>\n",
       "      <td>1</td>\n",
       "      <td>5</td>\n",
       "    </tr>\n",
       "    <tr>\n",
       "      <th>4</th>\n",
       "      <td>22583</td>\n",
       "      <td>1</td>\n",
       "      <td>7</td>\n",
       "    </tr>\n",
       "  </tbody>\n",
       "</table>\n",
       "</div>"
      ],
      "text/plain": [
       "   POPESTIMATE2015  STATE  COUNTY\n",
       "0          4858979      1       0\n",
       "1            55347      1       1\n",
       "2           203709      1       3\n",
       "3            26489      1       5\n",
       "4            22583      1       7"
      ]
     },
     "execution_count": 42,
     "metadata": {},
     "output_type": "execute_result"
    }
   ],
   "source": [
    "populationdf.head()"
   ]
  },
  {
   "cell_type": "markdown",
   "metadata": {},
   "source": [
    "Let's create a \"FIPS\" column by adding leading zeros and concatenating STATE and COUNTY"
   ]
  },
  {
   "cell_type": "code",
   "execution_count": null,
   "metadata": {},
   "outputs": [],
   "source": []
  },
  {
   "cell_type": "code",
   "execution_count": 50,
   "metadata": {},
   "outputs": [],
   "source": [
    "state = populationdf.STATE.apply(lambda x: str(x))\\\n",
    "                          .str.pad(2, 'left', '0')\n",
    "county = populationdf.COUNTY.apply(lambda x: str(x))\\\n",
    "                            .str.pad(3, 'left', '0')\n",
    "\n",
    "populationdf['FIPS'] = state + county\n",
    "\n",
    "populationdf.head()\n",
    "\n",
    "# Let's write down the datasets before merging into cleaned up CSV files.\n",
    "populationdf.to_csv(\"populationdf.csv\", index=False)"
   ]
  },
  {
   "cell_type": "markdown",
   "metadata": {},
   "source": [
    "Let's merge our population data"
   ]
  },
  {
   "cell_type": "code",
   "execution_count": 44,
   "metadata": {},
   "outputs": [
    {
     "name": "stdout",
     "output_type": "stream",
     "text": [
      "3134 matches out of\n",
      "3193 unique values\n"
     ]
    }
   ],
   "source": [
    "# first, let's check to see that the FIPS columns match up properly\n",
    "print(sum(pd.Series(populationdf.FIPS.unique()).isin(fulldf.FIPS)), 'matches out of')\n",
    "print(\"%d unique values\" % len(populationdf.FIPS.unique()))"
   ]
  },
  {
   "cell_type": "markdown",
   "metadata": {},
   "source": [
    "This means that 59 FIPS codes in the population dataframe are not in the other dataframe. But there are more rows in the population data. Let's check in the other direction."
   ]
  },
  {
   "cell_type": "code",
   "execution_count": 45,
   "metadata": {},
   "outputs": [
    {
     "name": "stdout",
     "output_type": "stream",
     "text": [
      "3134 matches out of\n",
      "3134 unique values\n"
     ]
    }
   ],
   "source": [
    "print(sum(pd.Series(fulldf.FIPS.unique()).isin(populationdf.FIPS)), 'matches out of')\n",
    "print(\"%d unique values\" % len(fulldf.FIPS.unique()))"
   ]
  },
  {
   "cell_type": "markdown",
   "metadata": {},
   "source": [
    "Great! All 3134 FIPS values in our full dataframe match with the population dataframe. We're good to merge them."
   ]
  },
  {
   "cell_type": "code",
   "execution_count": 46,
   "metadata": {
    "collapsed": true
   },
   "outputs": [],
   "source": [
    "fulldf = fulldf.merge(populationdf[['FIPS', 'POPESTIMATE2015']], on='FIPS', how='inner')"
   ]
  },
  {
   "cell_type": "markdown",
   "metadata": {},
   "source": [
    "Now, let's see if the counties whose mortality rates are reported with asterisks are low population."
   ]
  },
  {
   "cell_type": "code",
   "execution_count": 47,
   "metadata": {},
   "outputs": [
    {
     "name": "stdout",
     "output_type": "stream",
     "text": [
      "median, mean population:         25763.5, 102521.9\n",
      "median, mean population '*':      2985.0,   3917.8\n",
      "median, mean population not '*': 31183.0, 113930.3\n"
     ]
    }
   ],
   "source": [
    "# Find median as reference point\n",
    "fulldf.POPESTIMATE2015.median()\n",
    "print(\"median, mean population:         %.1f, %.1f\" % (fulldf.POPESTIMATE2015.median(),\n",
    "                                         fulldf.POPESTIMATE2015.mean()))\n",
    "print(\"median, mean population '*':      %.1f,   %.1f\" % (fulldf.POPESTIMATE2015[fulldf.Mortality_Rate == '*'].median(),\n",
    "                                            fulldf.POPESTIMATE2015[fulldf.Mortality_Rate == '*'].mean()))\n",
    "print(\"median, mean population not '*': %.1f, %.1f\" % (fulldf.POPESTIMATE2015[fulldf.Mortality_Rate != '*'].median(),\n",
    "                                                fulldf.POPESTIMATE2015[fulldf.Mortality_Rate != '*'].mean()))"
   ]
  },
  {
   "cell_type": "code",
   "execution_count": 48,
   "metadata": {},
   "outputs": [
    {
     "data": {
      "image/png": "[encoded data removed]",
      "text/plain": [
       "<Figure size 800x300 with 1 Axes>"
      ]
     },
     "metadata": {},
     "output_type": "display_data"
    }
   ],
   "source": [
    "sns.histplot(fulldf.POPESTIMATE2015[fulldf.Mortality_Rate == '*'], bins=30)\n",
    "plt.gcf().set_size_inches(8, 3)\n",
    "plt.show()"
   ]
  },
  {
   "cell_type": "markdown",
   "metadata": {},
   "source": [
    "Yes, the counties with asterisks are definitely lower in population than those without. But, I'm still not convinced that we should trust that they actually had no lung cancer mortalities. I suspect that the low population counties may be less likely to keep and report good data. Let's examine further."
   ]
  },
  {
   "cell_type": "code",
   "execution_count": 49,
   "metadata": {},
   "outputs": [
    {
     "name": "stdout",
     "output_type": "stream",
     "text": [
      "population: 0-1000 median mort. rate: No valid data points\n",
      "population: 1000-5000 median mort. rate: 57.4\n",
      "population: 5000-10000 median mort. rate: 52.1\n",
      "population: 10000-15000 median mort. rate: 55.0\n",
      "population: 15000-20000 median mort. rate: 56.3\n",
      "population: 20000-50000 median mort. rate: 54.2\n",
      "population: 50000-100000 median mort. rate: 53.5\n",
      "population: 100000-500000 median mort. rate: 49.3\n",
      "population: 500000-1000000 median mort. rate: 42.9\n"
     ]
    }
   ],
   "source": [
    "population_levels = [0, 1000, 5000, 10000, 15000, 20000, 50000, 100000, 500000, 10**6]\n",
    "\n",
    "# Convert Mortality_Rate to numeric for proper median calculation\n",
    "fulldf['Mortality_Rate_numeric'] = pd.to_numeric(fulldf['Mortality_Rate'], errors='coerce')\n",
    "\n",
    "for i in range(1,len(population_levels)):\n",
    "    # Filter for non-asterisk values and calculate median\n",
    "    mask = (fulldf.Mortality_Rate != '*') & \\\n",
    "           (population_levels[i-1] < fulldf.POPESTIMATE2015) & \\\n",
    "           (fulldf.POPESTIMATE2015 < population_levels[i])\n",
    "    \n",
    "    # Get the filtered data and remove any NaN values\n",
    "    filtered_data = fulldf.Mortality_Rate_numeric[mask].dropna()\n",
    "    \n",
    "    # Check if we have any valid data points\n",
    "    if len(filtered_data) > 0:\n",
    "        median_rate = filtered_data.median()\n",
    "        print(\"population:\", \"%d-%d\" % (population_levels[i-1], population_levels[i]),\n",
    "              \"median mort. rate:\", f\"{median_rate:.1f}\")\n",
    "    else:\n",
    "        print(\"population:\", \"%d-%d\" % (population_levels[i-1], population_levels[i]),\n",
    "              \"median mort. rate: No valid data points\")"
   ]
  },
  {
   "cell_type": "markdown",
   "metadata": {},
   "source": [
    "Lung cancer mortality rate appears to be higher in lower population counties. That realization makes me more skeptical of the validity of our missing values. The documentation from the data source states that the records marked by an asterisk indicate fewer than 16 reported cases of mortality from lung cancer. The records with asterisks tend to be very low population. Yet, we've learned that we'd expect them to have higher, not lower, mortality rates as compared with higher population counties (in general). "
   ]
  },
  {
   "cell_type": "markdown",
   "metadata": {},
   "source": [
    "Before making a decision, lets see how many low-population counties actually did report."
   ]
  },
  {
   "cell_type": "code",
   "execution_count": null,
   "metadata": {},
   "outputs": [],
   "source": [
    "print(\"Not '*'\")\n",
    "for i in range(1, len(population_levels)):\n",
    "    print(\"# records between\",\"%d-%d population\" % (population_levels[i-1], population_levels[i]), \n",
    "                                      fulldf[(fulldf.Mortality_Rate != '*') &\n",
    "                                             (fulldf.POPESTIMATE2015 <= population_levels[i]) &\n",
    "                                             (fulldf.POPESTIMATE2015 > population_levels[i-1])].shape[0]) \n"
   ]
  },
  {
   "cell_type": "code",
   "execution_count": null,
   "metadata": {},
   "outputs": [],
   "source": [
    "# a closer look at number of records for very low-population counties (< 5000)\n",
    "print(\"not '*'\")\n",
    "population_levels = [2500, 3000, 3500, 4000, 4500, 5000]\n",
    "\n",
    "for i in range(1, len(population_levels)):\n",
    "    print(\"# records between\",\"%d-%d population\" % (population_levels[i-1], population_levels[i]), \n",
    "                                      fulldf[(fulldf.Mortality_Rate != '*') &\n",
    "                                             (fulldf.POPESTIMATE2015 <= population_levels[i]) &\n",
    "                                             (fulldf.POPESTIMATE2015 > population_levels[i-1])].shape[0]) \n",
    "\n",
    "print(\"'*'\") \n",
    "for i in range(1, len(population_levels)):\n",
    "    print(\"# records between\",\"%d-%d population\" % (population_levels[i-1], population_levels[i]), \n",
    "                                      fulldf[(fulldf.Mortality_Rate == '*') &\n",
    "                                             (fulldf.POPESTIMATE2015 <= population_levels[i]) &\n",
    "                                             (fulldf.POPESTIMATE2015 > population_levels[i-1])].shape[0]) "
   ]
  },
  {
   "cell_type": "markdown",
   "metadata": {},
   "source": [
    "I think we have plenty of information now to use to decide what to do with the observations where mortality rate is missing.   \n",
    "The fact is, that because mortality rate is our target variable, we probably could have skipped all this investigation and opted to simply remove the missing records. However, I think this was a worthwhile exercise to walk through, if just for the sake of demonstration. In any case, I'm inclined to remove the rows with missing mortality rate values entirely. Here's why:\n",
    "* Low-population counties are already well-represented in the data (there are plenty of non-null observations).\n",
    "* It seems redundant (and a source of unnecessary noise) to impute missing values in the outcome variable in this case.\n",
    "* I think it's safe to treat the null values as if they were randomly drawn (they may not be entirely random, but it seems unlikely to me that we're losing much information at this time by removing them).\n",
    "* Given that lower populations tend (when they do report) to have higher mortality rates, I suspect that it's misleading to state that the asterisks represent counties which reported \"fewer than 16\" cases of mortality. Instead, I believe that the asterisks more likely represent counties which failed to collect and/or report mortality data. Note that we are dealing with normalized mortality rates -- per capita (100,000). I'm confident that those records should be omitted. \n",
    "\n",
    "**(!)note:** If this seems arbitrary to you, then you're reading it correctly. Data science involves many subjective decisions! **Just be sure that you've done your due diligence and can explain and defend your decision-making process.**    \n",
    "      \n",
    "Now, let's filter out the records with missing mortality rate values."
   ]
  },
  {
   "cell_type": "code",
   "execution_count": null,
   "metadata": {
    "collapsed": true
   },
   "outputs": [],
   "source": [
    "fulldf = fulldf[fulldf.Mortality_Rate != '*']"
   ]
  },
  {
   "cell_type": "markdown",
   "metadata": {},
   "source": [
    "### We still need to clean up Med_Income, Incidence_Rate, Avg_Ann_Incidence, and Avg_Ann_Deaths"
   ]
  },
  {
   "cell_type": "code",
   "execution_count": null,
   "metadata": {
    "collapsed": true
   },
   "outputs": [],
   "source": [
    "# Med_Income\n",
    "fulldf['Med_Income'] = pd.to_numeric(fulldf.Med_Income)  # That was easy!"
   ]
  },
  {
   "cell_type": "code",
   "execution_count": null,
   "metadata": {},
   "outputs": [],
   "source": [
    "# Incidence_Rate\n",
    "# Let's use this script to see which values fail to convert to numeric:\n",
    "values = []\n",
    "for _, j in enumerate(fulldf.Incidence_Rate):\n",
    "    try:\n",
    "        pd.to_numeric(j)\n",
    "    except:\n",
    "        values.append(j)\n",
    "        \n",
    "pd.Series(values).value_counts()[:10]"
   ]
  },
  {
   "cell_type": "markdown",
   "metadata": {},
   "source": [
    "It appears that we have four different types of values that can't be converted into numeric values.    \n",
    "To understand them, let's refer back to the [cancer_data_notes](https://data.world/nrippner/cancer-analysis-hackathon-challenge/file/cancer_data_notes.xlsx) file at our data.world dataset.    \n",
    "![cancer_data_notes.png](https://data.world/api/nrippner/dataset/images/file/raw/cancer_data_notes.png)    \n",
    "      \n",
    "We already decided that we're going to omit any records where Mortality_Rate is missing (asterisk).   \n",
    "We see that | and || also indicate missing values due to legislative reasons, and no data from Nevada, respectively.    \n",
    "The hash sign, we're told, means \"Data do not include cases diagnosed in other states for those states in which the data exchange agreement specifically prohibits the release of data to third parties.\"   \n",
    "\n",
    "How should we proceed? Well, mortality rate is our target variable. Also, it's arguably a more interesting variable and it's already clean and homogenous. So, if we remove any additional rows, we're losing good mortality rate data. So, I feel strongly that we should not omit any rows in order to fix Incidence_Rate. For now, let's leave incidence rate alone. If we want to include it in our explanatory variables, we can consider imputing the missing values. Else, if we want to create a model with it as the outcome, we can deal with that separately. "
   ]
  },
  {
   "cell_type": "markdown",
   "metadata": {},
   "source": [
    "### Avg_Ann_Incidence and Avg_Ann_Deaths     \n",
    "are closely related with the Incidence_Rate and Mortality_Rate variables, respectively. It's safe to assume that we're more interested in these values normalized by population (rates rather than raw values). So, I think they're redundant -- we already have information about mortality and incidence rates included, as well as a population, included in the model."
   ]
  },
  {
   "cell_type": "markdown",
   "metadata": {},
   "source": [
    "### Now, let's get the data ready for a model"
   ]
  },
  {
   "cell_type": "code",
   "execution_count": null,
   "metadata": {
    "collapsed": true
   },
   "outputs": [],
   "source": [
    "# Add Recent Trend column to fulldf by merging from mortality data\n",
    "# First, load the mortality data with Recent Trend\n",
    "raw_mortdf = ddw.query('nrippner/cancer-analysis-hackathon-challenge',\n",
    "                      'SELECT * FROM `death .csv/death `').dataframe\n",
    "\n",
    "# Clean and prepare the trend data\n",
    "trend_data = raw_mortdf[['fips', 'recent_trend_2']].copy()\n",
    "trend_data = trend_data[trend_data.fips.notnull()]\n",
    "trend_data['fips'] = trend_data.fips.apply(lambda x: str(int(x))).astype(str).str.pad(5, 'left', '0')\n",
    "trend_data.rename(columns={'fips': 'FIPS', 'recent_trend_2': 'Recent Trend'}, inplace=True)\n",
    "\n",
    "# Merge with fulldf\n",
    "fulldf = fulldf.merge(trend_data, on='FIPS', how='left')\n",
    "print(f\"Added Recent Trend column. New shape: {fulldf.shape}\")\n",
    "print(f\"Recent Trend values: {fulldf['Recent Trend'].value_counts()}\")\n",
    "\n",
    "# create dummy variables for \"Recent Trend\"\n",
    "# change all the missing values to the mode ('stable')\n",
    "fulldf['Recent Trend'] = fulldf['Recent Trend'].fillna('stable')\n",
    "fulldf.replace({'Recent Trend' : {'*':'stable', '**':'stable'}}, inplace=True)\n",
    "\n",
    "# function to do boolean check and return 1 or 0\n",
    "def f(x, term):\n",
    "    if x == term:\n",
    "        return 1\n",
    "    else:\n",
    "        return 0\n",
    "\n",
    "# create new features using the apply method with the 'f' function we defined above\n",
    "fulldf['Rising'] = fulldf['Recent Trend'].apply(lambda x: f(x, term='rising'))\n",
    "fulldf['Falling'] = fulldf['Recent Trend'].apply(lambda x: f(x, term='falling'))\n",
    "\n",
    "# Note that of the 3 levels of RecentTrend, we only created dummies for rising and falling\n",
    "# We will be including constant in our model (dummy variable trap)\n",
    "\n",
    "print(f\"Final Recent Trend values after cleaning: {fulldf['Recent Trend'].value_counts()}\")\n",
    "print(f\"Rising dummy: {fulldf['Rising'].value_counts()}\")\n",
    "print(f\"Falling dummy: {fulldf['Falling'].value_counts()}\")"
   ]
  },
  {
   "cell_type": "code",
   "execution_count": null,
   "metadata": {},
   "outputs": [],
   "source": [
    "fulldf['RecentTrend'].value_counts()"
   ]
  },
  {
   "cell_type": "code",
   "execution_count": null,
   "metadata": {
    "collapsed": true
   },
   "outputs": [],
   "source": [
    "y = pd.to_numeric(fulldf.Mortality_Rate).values\n",
    "X = fulldf.loc[:,['All_Poverty', 'M_Poverty', 'F_Poverty', 'Med_Income',\n",
    "            'M_With', 'M_Without', 'F_With', 'F_Without', 'All_With',\n",
    "            'All_Without', 'Incidence_Rate', 'Falling', 'Rising',\n",
    "            'POPESTIMATE2015']]"
   ]
  },
  {
   "cell_type": "code",
   "execution_count": null,
   "metadata": {},
   "outputs": [],
   "source": [
    "X.head()"
   ]
  },
  {
   "cell_type": "markdown",
   "metadata": {},
   "source": [
    "**(!)note:** In this case we should probably convert our numeric data to per capita. Our target variable, mortality rate, is measured per 100,000 population. By normalizing each variable by 100,000 population, we can more easily assess how they correlate with each other. In case we want to account for the influence of population in our model, we can also retain the population feature.     \n",
    "     \n",
    "If we recall, the Incidence_Rate feature contains some values (eg, '\\*', '||', & '|') that we need to deal with before we can convert into numeric format. Let's do that now. Fortunately, pandas makes this quite easy."
   ]
  },
  {
   "cell_type": "markdown",
   "metadata": {},
   "source": [
    "The \"errors='coerce'\" argument to the pd.to_numeric method, tells pandas to replace any value that can't be converted to a float with 'nan'."
   ]
  },
  {
   "cell_type": "code",
   "execution_count": null,
   "metadata": {
    "collapsed": true
   },
   "outputs": [],
   "source": [
    "X['Incidence_Rate'] = pd.to_numeric(X.Incidence_Rate, errors='coerce')"
   ]
  },
  {
   "cell_type": "markdown",
   "metadata": {},
   "source": [
    "Now we can use the pandas fillna() method to easily impute the missing values. While it's tempting to use a more complex technique to impute the missing values (like random forest regression, for example), imputing using the mean or median is much simpler and is likely to yield pretty comparable results."
   ]
  },
  {
   "cell_type": "code",
   "execution_count": null,
   "metadata": {},
   "outputs": [],
   "source": [
    "X['Incidence_Rate'] = X.Incidence_Rate.fillna(X.Incidence_Rate.median())\n",
    "print(sum(X.Incidence_Rate.isnull()))"
   ]
  },
  {
   "cell_type": "markdown",
   "metadata": {},
   "source": [
    "Now let's convert the applicable variables to per capita. We'll retain the original features and name the per capita versions with the \"_PC\" suffix."
   ]
  },
  {
   "cell_type": "code",
   "execution_count": null,
   "metadata": {
    "collapsed": true
   },
   "outputs": [],
   "source": [
    "for col in ['All_Poverty', 'M_Poverty', 'F_Poverty', 'M_With',\n",
    "            'M_Without', 'F_With', 'F_Without', 'All_With', 'All_Without']:\n",
    "       \n",
    "    X[col + \"_PC\"] = X[col] / X.POPESTIMATE2015 * 10**5"
   ]
  },
  {
   "cell_type": "code",
   "execution_count": null,
   "metadata": {},
   "outputs": [],
   "source": [
    "X.head()"
   ]
  },
  {
   "cell_type": "markdown",
   "metadata": {},
   "source": [
    "## Visual Exploratory Analysis"
   ]
  },
  {
   "cell_type": "code",
   "execution_count": null,
   "metadata": {},
   "outputs": [],
   "source": [
    "# scatterplots (hat tip Sebastian Raschka from his book \"Python Machine Learning\")\n",
    "sns.set(style='whitegrid', context='notebook')\n",
    "sns.pairplot(X[['All_Poverty_PC', 'M_Poverty_PC', 'F_Poverty_PC', 'Med_Income']], size=2)\n",
    "plt.show()"
   ]
  },
  {
   "cell_type": "code",
   "execution_count": null,
   "metadata": {},
   "outputs": [],
   "source": [
    "cols = ['All_Poverty_PC', 'M_Poverty_PC', 'F_Poverty_PC', 'Med_Income']\n",
    "cm = np.corrcoef(X[['All_Poverty_PC', 'M_Poverty_PC', 'F_Poverty_PC', 'Med_Income']].values.T)\n",
    "sns.set(font_scale=1.5)\n",
    "hm = sns.heatmap(cm, cbar=True, annot=True, square=True, fmt='.2f', annot_kws={'size':15},\n",
    "                 yticklabels=cols, xticklabels=cols)\n",
    "plt.show()"
   ]
  },
  {
   "cell_type": "markdown",
   "metadata": {},
   "source": [
    "We see that All_Poverty_PC, F_Poverty_PC and M_Poverty_PC look pretty much perfectly correlated. We don't want redundant features. So let's drop M_Poverty_PC and F_Poverty_PC and keep only All_Poverty_PC to represent poverty information in our model."
   ]
  },
  {
   "cell_type": "code",
   "execution_count": null,
   "metadata": {
    "collapsed": true
   },
   "outputs": [],
   "source": [
    "X.drop(['M_Poverty_PC', 'F_Poverty_PC'], axis=1, inplace=True)"
   ]
  },
  {
   "cell_type": "markdown",
   "metadata": {},
   "source": [
    "After repeating this process with our health insurance variables, it became clear that the gender-specific features are redundant. After removing them, we're left with these data:"
   ]
  },
  {
   "cell_type": "code",
   "execution_count": null,
   "metadata": {},
   "outputs": [],
   "source": [
    "X.drop(['M_With_PC', 'F_With_PC'], axis=1, inplace=True)\n",
    "X.drop(['M_Without_PC', 'F_Without_PC'], axis=1, inplace=True)\n",
    "X.head()"
   ]
  },
  {
   "cell_type": "markdown",
   "metadata": {},
   "source": [
    "Now that we've removed all the redundant data, let's look at the correlations with the remaining features."
   ]
  },
  {
   "cell_type": "code",
   "execution_count": null,
   "metadata": {},
   "outputs": [],
   "source": [
    "cols = ['All_Poverty_PC', 'Med_Income', 'All_With_PC', 'All_Without_PC',\n",
    "                'Incidence_Rate', 'POPESTIMATE2015']\n",
    "sns.set(style='whitegrid', context='notebook')\n",
    "sns.pairplot(X[cols], size=2)\n",
    "plt.show()"
   ]
  },
  {
   "cell_type": "code",
   "execution_count": null,
   "metadata": {},
   "outputs": [],
   "source": [
    "cm = np.corrcoef(X[cols].values.T)\n",
    "sns.set(font_scale=1.5)\n",
    "hm = sns.heatmap(cm, cbar=True, annot=True, square=True, fmt='.2f', annot_kws={'size':15},\n",
    "                 yticklabels=cols, xticklabels=cols)\n",
    "plt.show()"
   ]
  },
  {
   "cell_type": "markdown",
   "metadata": {},
   "source": [
    "There are a couple pairs of fairly strongly correlated features: (All_Poverty_PC & Med_Income) and (All_With_PC & All_Without_PC). We'll keep them in mind as we observe how they work in the linear regression."
   ]
  },
  {
   "cell_type": "markdown",
   "metadata": {},
   "source": [
    "# 3. Linear Regression Model"
   ]
  },
  {
   "cell_type": "code",
   "execution_count": null,
   "metadata": {
    "collapsed": true
   },
   "outputs": [],
   "source": [
    "cols = ['All_Poverty_PC', 'Med_Income', 'All_With_PC',  'All_Without_PC',\n",
    "        'Incidence_Rate', 'POPESTIMATE2015', 'Falling', 'Rising', 'All_Poverty',\n",
    "        'All_With', 'All_Without']"
   ]
  },
  {
   "cell_type": "code",
   "execution_count": null,
   "metadata": {},
   "outputs": [],
   "source": [
    "# add constant (coloumn vector of all 1s)\n",
    "X = X[cols]\n",
    "X['Constant'] = 1\n",
    "X.reset_index(drop=True, inplace=True)"
   ]
  },
  {
   "cell_type": "code",
   "execution_count": null,
   "metadata": {
    "collapsed": true
   },
   "outputs": [],
   "source": [
    "# Fit linear regression model\n",
    "lr = sm.OLS(y, X, hasconst=True)\n",
    "result = lr.fit()"
   ]
  },
  {
   "cell_type": "code",
   "execution_count": null,
   "metadata": {},
   "outputs": [],
   "source": [
    "result.summary()"
   ]
  },
  {
   "cell_type": "markdown",
   "metadata": {},
   "source": [
    "After fitting an ordinary least squares model with the ['All_Poverty_PC', 'Med_Income', 'All_With_PC', All_Without_PC', 'Incidence_Rate', 'POPESTIMATE2015', 'Falling', 'Rising', 'All_Poverty', 'All_With', 'All_Without'] regressed on the Mortality_Rate target variable, we have a pretty well-performing model, as evidenced by the Adjusted R^2 (738).   \n",
    "    \n",
    "Let's treat this as our baseline, and apply model diagnostics and feature selection to try to improve it.   \n",
    "\n",
    "We will attempt to account for multicollinearity, heteroscedsticity of residuals, and normality of distributions of residuals.     \n",
    "       \n",
    "#### Multicollinearity     \n",
    "Let's apply variance inflation factors to assess for multicollinearity. VIFs, by performing an independent variable on the design matrix comprising all the other independent variables, allows us to assess the degree to which that independent variable is orthogonal the others. Larger VIFs indicate multicollinearity.     \n",
    "**(!)note:** VIF values exceeding 10 are commonly interpreted as \"high\" in multicollinearity. However, this threshold is arbitrary, and it may make sense to select a different threshold in many cases."
   ]
  },
  {
   "cell_type": "code",
   "execution_count": null,
   "metadata": {},
   "outputs": [],
   "source": [
    "pd.DataFrame([[var, variance_inflation_factor(X.values, X.columns.get_loc(var))] for var in X.columns],\n",
    "                   index=range(X.shape[1]), columns=['Variable', 'VIF'])\n"
   ]
  },
  {
   "cell_type": "markdown",
   "metadata": {},
   "source": [
    "After iteratively removing the feature associated with the largest VIF and then recalculating VIFs, we result in these independent variables:"
   ]
  },
  {
   "cell_type": "code",
   "execution_count": null,
   "metadata": {},
   "outputs": [],
   "source": [
    "X.columns"
   ]
  },
  {
   "cell_type": "code",
   "execution_count": null,
   "metadata": {
    "collapsed": true
   },
   "outputs": [],
   "source": [
    "vcols = ['All_Poverty_PC', 'Med_Income', 'All_With_PC', 'All_Without_PC',\n",
    "       'Incidence_Rate', 'Falling', 'Rising', 'Constant']"
   ]
  },
  {
   "cell_type": "code",
   "execution_count": null,
   "metadata": {},
   "outputs": [],
   "source": [
    "Xvcols = X[vcols].reset_index(drop=True)\n",
    "pd.DataFrame([[var, variance_inflation_factor(Xvcols.values, Xvcols.columns.get_loc(var))] for var in vcols],\n",
    "                   index=range(len(vcols)), columns=['Variable', 'VIF'])"
   ]
  },
  {
   "cell_type": "markdown",
   "metadata": {},
   "source": [
    "Interestingly, All_Without (men and women without health insurance), versus the same per capita (All_Without_PC) don't indicate high multicollinearity. I'm not sure what to make of that. In any case, I'm opting to remove All_Without from the model because I believe that it's more or less a proxy for population.\n",
    "     \n",
    "Let's recompute a linear regression on the reduced set of independent variables."
   ]
  },
  {
   "cell_type": "code",
   "execution_count": null,
   "metadata": {
    "collapsed": true
   },
   "outputs": [],
   "source": [
    "vcols = ['All_Poverty_PC', 'Med_Income', 'All_Without_PC',\n",
    "       'Incidence_Rate', 'Falling', 'POPESTIMATE2015', 'Constant']\n",
    "Xvcols = X[vcols].reset_index(drop=True)\n",
    "lr = sm.OLS(y, Xvcols, hasconst=True)\n",
    "result = lr.fit()"
   ]
  },
  {
   "cell_type": "code",
   "execution_count": null,
   "metadata": {},
   "outputs": [],
   "source": [
    "result.summary()"
   ]
  },
  {
   "cell_type": "markdown",
   "metadata": {},
   "source": [
    "I'm satisfied with how this model looks. Specifically: 1) VIFs indicate that it's not afflicted by multicollinearity, 2) all the parameters are statistically significant (P>|t|), & 3) all the parameters logically make sense (eg, oriented in directions that logically make sense).   \n",
    "    \n",
    "Let's move on and take a look at residuals to assess for normality and heteroscedasticity.   \n",
    "\n",
    "**Are residuals normally distributed?**"
   ]
  },
  {
   "cell_type": "code",
   "execution_count": null,
   "metadata": {},
   "outputs": [],
   "source": [
    "# histogram superimposed by normal curve\n",
    "plt.figure(figsize=(10,6))\n",
    "import scipy.stats as stats\n",
    "mu = np.mean(result.resid)\n",
    "sigma = np.std(result.resid)\n",
    "pdf = stats.norm.pdf(sorted(result.resid), mu, sigma)\n",
    "plt.hist(result.resid, bins=100, normed=True)\n",
    "plt.plot(sorted(result.resid), pdf, color='r', linewidth=2)\n",
    "plt.show()"
   ]
  },
  {
   "cell_type": "markdown",
   "metadata": {},
   "source": [
    "The distribution of the residuals does not adhere perfectly to a normal distribution (skew=0, excess kurtosis=0). There is a small number of outliers to the left, the tails appear slightly fatter than, and the distribution has somewhat larger kurtosis than the normal distribution. "
   ]
  },
  {
   "cell_type": "code",
   "execution_count": null,
   "metadata": {},
   "outputs": [],
   "source": [
    "# QQplot\n",
    "fig, [ax1, ax2] = plt.subplots(1,2, figsize=(10,3))\n",
    "sm.qqplot(result.resid, stats.t, fit=True, line='45', ax = ax1)\n",
    "ax1.set_title(\"t distribution\")\n",
    "sm.qqplot(result.resid, stats.norm, fit=True, line='45', ax=ax2)\n",
    "ax2.set_title(\"normal distribution\")\n",
    "plt.show()"
   ]
  },
  {
   "cell_type": "markdown",
   "metadata": {},
   "source": [
    "The qqplots confirm that the residuals adhere more closely to the t- than normal distribution (fatter tails). A few prominent outliers are visible at the lower extreme.   \n",
    "      \n",
    "All-in-all, despite these imperfections, I consider the distribution of residuals to be adequate. However, we should investigate the nature of the more extreme outliers. We also may want to try to add additional information to the model (new variable(s)), in light of the the model's tendency to overestimate low values and underestimate high values."
   ]
  },
  {
   "cell_type": "markdown",
   "metadata": {},
   "source": [
    "**Heteroscedasticity**   "
   ]
  },
  {
   "cell_type": "code",
   "execution_count": null,
   "metadata": {},
   "outputs": [],
   "source": [
    "# plot predicted vs actual\n",
    "plt.figure(figsize=(14,7))\n",
    "sns.regplot(y, result.fittedvalues, line_kws={'color':'r', 'alpha':0.3, \n",
    "                                              'linestyle':'--', 'linewidth':2}, \n",
    "            scatter_kws={'alpha':0.5})\n",
    "plt.ylim(0,160)\n",
    "plt.xlabel('Actual Values')\n",
    "plt.ylabel('Fitted Values')\n",
    "plt.show()\n",
    "print(\"Pearson R: \", stats.pearsonr(result.fittedvalues, y))"
   ]
  },
  {
   "cell_type": "markdown",
   "metadata": {},
   "source": [
    "Consistent with our reported R^2 value, we now visualize the strong correlation between actual and predicted values."
   ]
  },
  {
   "cell_type": "code",
   "execution_count": null,
   "metadata": {},
   "outputs": [],
   "source": [
    "# plot actual values versus residuals\n",
    "from statsmodels.nonparametric.smoothers_lowess import lowess\n",
    "ys = lowess(result.resid.values, y, frac=0.2)\n",
    "ys = pd.DataFrame(ys, index=range(len(ys)), columns=['a', 'b'])\n",
    "ys = ys.sort_values(by='a')\n",
    "\n",
    "fig, ax = plt.subplots(figsize=(14,9))\n",
    "plt.scatter(y, result.resid, alpha=0.5, s=25)\n",
    "plt.axhline(y=0, color='r', linestyle=\"--\", alpha=0.5)\n",
    "plt.xlabel(\"Actual Values\")\n",
    "plt.ylabel(\"Residuals\")\n",
    "\n",
    "plt.plot(ys.a, ys.b, c='green', linewidth=2, label=\"Lowess\")\n",
    "plt.legend()\n",
    "plt.show()\n",
    "print(\"Pearson R:\", stats.pearsonr(y, result.resid))"
   ]
  },
  {
   "cell_type": "markdown",
   "metadata": {},
   "source": [
    "This chart suggests that the model tends to somewhat overshoot lower values, and undershoot higher ones. "
   ]
  },
  {
   "cell_type": "code",
   "execution_count": null,
   "metadata": {},
   "outputs": [],
   "source": [
    "# plot actual values versus residuals\n",
    "plt.figure(figsize=(14,7))\n",
    "plt.scatter(y=result.resid, x=result.fittedvalues, alpha=0.5, s=22)\n",
    "plt.axhline(y=0, color='r', linestyle=\"--\", alpha=0.5)\n",
    "plt.xlabel(\"Fitted Values\")\n",
    "plt.ylabel(\"Residuals\")\n",
    "plt.ylim(-65, 50)\n",
    "plt.show()"
   ]
  },
  {
   "cell_type": "markdown",
   "metadata": {},
   "source": [
    "The plot of residuals versus fitted values shows that the residuals are fairly symmetric relative to the fitted values."
   ]
  },
  {
   "cell_type": "markdown",
   "metadata": {},
   "source": [
    "### Model Diagnostics Summary      \n",
    "* Multicollinearity does not appear to be present.\n",
    "* Parameters are statistically significant.\n",
    "* The residuals adhere more closely to a t- than a normal distribution -- larger excess kurtosis and fatter tails.\n",
    "* The fitted values tend to err in the negative direction (overestimate) actual values toward the lower extreme of the range, and the inverse for values toward the high end of the range.\n",
    "* The adjusted R^2 is 0.74, meaning that the model accounts for 74% of the total observed variance in the target.\n",
    "* improvements to the model should focus on accounting for outliers and, if possible, adding additional information to the model."
   ]
  },
  {
   "cell_type": "markdown",
   "metadata": {},
   "source": [
    "### Model Interpretation      "
   ]
  },
  {
   "cell_type": "code",
   "execution_count": null,
   "metadata": {
    "collapsed": true
   },
   "outputs": [],
   "source": []
  },
  {
   "cell_type": "code",
   "execution_count": null,
   "metadata": {
    "collapsed": true
   },
   "outputs": [],
   "source": []
  },
  {
   "cell_type": "markdown",
   "metadata": {
    "collapsed": true
   },
   "source": [
    "### Conclusions"
   ]
  },
  {
   "cell_type": "code",
   "execution_count": null,
   "metadata": {
    "collapsed": true
   },
   "outputs": [],
   "source": []
  },
  {
   "cell_type": "code",
   "execution_count": null,
   "metadata": {
    "collapsed": true
   },
   "outputs": [],
   "source": []
  },
  {
   "cell_type": "code",
   "execution_count": null,
   "metadata": {
    "collapsed": true
   },
   "outputs": [],
   "source": []
  },
  {
   "cell_type": "code",
   "execution_count": null,
   "metadata": {
    "collapsed": true
   },
   "outputs": [],
   "source": []
  },
  {
   "cell_type": "code",
   "execution_count": null,
   "metadata": {
    "collapsed": true
   },
   "outputs": [],
   "source": []
  },
  {
   "cell_type": "code",
   "execution_count": null,
   "metadata": {
    "collapsed": true
   },
   "outputs": [],
   "source": []
  }
 ],
 "metadata": {
  "kernelspec": {
   "display_name": "regression (3.12.3)",
   "language": "python",
   "name": "python3"
  },
  "language_info": {
   "codemirror_mode": {
    "name": "ipython",
    "version": 3
   },
   "file_extension": ".py",
   "mimetype": "text/x-python",
   "name": "python",
   "nbconvert_exporter": "python",
   "pygments_lexer": "ipython3",
   "version": "3.12.3"
  },
  "toc": {
   "colors": {
    "hover_highlight": "#DAA520",
    "navigate_num": "#000000",
    "navigate_text": "#333333",
    "running_highlight": "#FF0000",
    "selected_highlight": "#FFD700",
    "sidebar_border": "#EEEEEE",
    "wrapper_background": "#FFFFFF"
   },
   "moveMenuLeft": true,
   "nav_menu": {
    "height": "435px",
    "width": "252px"
   },
   "navigate_menu": true,
   "number_sections": false,
   "sideBar": true,
   "threshold": 4,
   "toc_cell": true,
   "toc_section_display": "block",
   "toc_window_display": false,
   "widenNotebook": false
  },
  "varInspector": {
   "cols": {
    "lenName": 16,
    "lenType": 16,
    "lenVar": 40
   },
   "kernels_config": {
    "python": {
     "delete_cmd_postfix": "",
     "delete_cmd_prefix": "del ",
     "library": "var_list.py",
     "varRefreshCmd": "print(var_dic_list())"
    },
    "r": {
     "delete_cmd_postfix": ") ",
     "delete_cmd_prefix": "rm(",
     "library": "var_list.r",
     "varRefreshCmd": "cat(var_dic_list()) "
    }
   },
   "position": {
    "height": "688px",
    "left": "654.815px",
    "right": "20px",
    "top": "113.991px",
    "width": "543px"
   },
   "types_to_exclude": [
    "module",
    "function",
    "builtin_function_or_method",
    "instance",
    "_Feature"
   ],
   "window_display": false
  }
 },
 "nbformat": 4,
 "nbformat_minor": 2
}
